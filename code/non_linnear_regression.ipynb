{
 "cells": [
  {
   "cell_type": "markdown",
   "metadata": {},
   "source": [
    "# 非线性回归"
   ]
  },
  {
   "cell_type": "markdown",
   "metadata": {},
   "source": [
    "## 技术指标"
   ]
  },
  {
   "cell_type": "markdown",
   "metadata": {},
   "source": [
    "### 相对强弱指标 RSI"
   ]
  },
  {
   "cell_type": "markdown",
   "metadata": {},
   "source": [
    "RSI是根据一定时期内上涨和下跌幅度之和的比率制作的技术曲线，分析市场买沽盘的意向和实力, 得到未来市场的走势。计算公式如下：  \n",
    "**`RSI(n) = n日内收盘价涨数平均值 / (n日内收盘价涨数平均值 + n日内收盘价跌幅平均值)*100`**"
   ]
  },
  {
   "cell_type": "markdown",
   "metadata": {},
   "source": [
    "### 移动平均线 MA"
   ]
  },
  {
   "cell_type": "markdown",
   "metadata": {},
   "source": [
    "MA是将一段时期内的股票价格平均值连成曲线, 以显示股价的历史波动情况, 反映股价指数未来发展趋势。计算公式如下：  \n",
    "**`MA(N) = (第1天收盘价 + 第2天收盘价 + …… + 第N天收盘价)/N`**"
   ]
  },
  {
   "cell_type": "markdown",
   "metadata": {},
   "source": [
    "### 顺势指标CCI"
   ]
  },
  {
   "cell_type": "markdown",
   "metadata": {},
   "source": [
    "衡量股价是否超出常态分布范围，引入了价格与固定期间的股价平均区间的偏离程度的概念, 强调股价平均绝对偏差在股市技术分析中的重要性。计算公式如下：  \n",
    "**`CCI(N)=(TP－MA(N))÷MD÷0.015`**，其中：TP =(最高价+最低价+收盘价)/3；MD = 最近N日(MA － 收盘价)的累计之和/N"
   ]
  },
  {
   "cell_type": "markdown",
   "metadata": {},
   "source": [
    "## 数据处理"
   ]
  },
  {
   "cell_type": "markdown",
   "metadata": {},
   "source": [
    "指标我们选取**RSI(5)、MA(5)、CCI(5)作为自变量**"
   ]
  },
  {
   "cell_type": "markdown",
   "metadata": {},
   "source": [
    "### 获取数据（tushare）"
   ]
  },
  {
   "cell_type": "code",
   "execution_count": 51,
   "metadata": {},
   "outputs": [],
   "source": [
    "import pandas as pd\n",
    "import numpy as np\n",
    "import tushare as ts\n",
    "import matplotlib.pyplot as plt\n",
    "import talib\n",
    "import warnings\n",
    "import datetime\n",
    "from sklearn.linear_model import LinearRegression\n",
    "from sklearn.metrics import mean_squared_error, r2_score\n",
    "warnings.filterwarnings(\"ignore\")\n",
    "plt.rcParams['figure.figsize'] = 15, 5\n",
    "%matplotlib inline"
   ]
  },
  {
   "cell_type": "code",
   "execution_count": 53,
   "metadata": {},
   "outputs": [
    {
     "data": {
      "text/html": [
       "<div>\n",
       "<style scoped>\n",
       "    .dataframe tbody tr th:only-of-type {\n",
       "        vertical-align: middle;\n",
       "    }\n",
       "\n",
       "    .dataframe tbody tr th {\n",
       "        vertical-align: top;\n",
       "    }\n",
       "\n",
       "    .dataframe thead th {\n",
       "        text-align: right;\n",
       "    }\n",
       "</style>\n",
       "<table border=\"1\" class=\"dataframe\">\n",
       "  <thead>\n",
       "    <tr style=\"text-align: right;\">\n",
       "      <th></th>\n",
       "      <th>close</th>\n",
       "      <th>high</th>\n",
       "      <th>low</th>\n",
       "      <th>p_change</th>\n",
       "      <th>ma5</th>\n",
       "    </tr>\n",
       "  </thead>\n",
       "  <tbody>\n",
       "    <tr>\n",
       "      <th>0</th>\n",
       "      <td>6.30</td>\n",
       "      <td>6.42</td>\n",
       "      <td>6.23</td>\n",
       "      <td>-0.63</td>\n",
       "      <td>6.410</td>\n",
       "    </tr>\n",
       "    <tr>\n",
       "      <th>1</th>\n",
       "      <td>6.32</td>\n",
       "      <td>6.33</td>\n",
       "      <td>6.15</td>\n",
       "      <td>0.32</td>\n",
       "      <td>6.374</td>\n",
       "    </tr>\n",
       "    <tr>\n",
       "      <th>2</th>\n",
       "      <td>6.31</td>\n",
       "      <td>6.33</td>\n",
       "      <td>6.25</td>\n",
       "      <td>-0.16</td>\n",
       "      <td>6.336</td>\n",
       "    </tr>\n",
       "    <tr>\n",
       "      <th>3</th>\n",
       "      <td>6.30</td>\n",
       "      <td>6.37</td>\n",
       "      <td>6.28</td>\n",
       "      <td>-0.16</td>\n",
       "      <td>6.314</td>\n",
       "    </tr>\n",
       "    <tr>\n",
       "      <th>4</th>\n",
       "      <td>6.44</td>\n",
       "      <td>6.46</td>\n",
       "      <td>6.27</td>\n",
       "      <td>2.22</td>\n",
       "      <td>6.334</td>\n",
       "    </tr>\n",
       "  </tbody>\n",
       "</table>\n",
       "</div>"
      ],
      "text/plain": [
       "   close  high   low  p_change    ma5\n",
       "0   6.30  6.42  6.23     -0.63  6.410\n",
       "1   6.32  6.33  6.15      0.32  6.374\n",
       "2   6.31  6.33  6.25     -0.16  6.336\n",
       "3   6.30  6.37  6.28     -0.16  6.314\n",
       "4   6.44  6.46  6.27      2.22  6.334"
      ]
     },
     "execution_count": 53,
     "metadata": {},
     "output_type": "execute_result"
    }
   ],
   "source": [
    "# 选取2018-07-02到2018-08-20的数据作为训练集，保证07-02具有CCI(5)、RSI(5)值\n",
    "# 2018-08-21到2018-09-21的数据作为训练集\n",
    "df = pd.read_excel('../data/non_data.xlsx')\n",
    "data = df[['close','high','low','p_change','ma5']]\n",
    "data.sort_index(inplace=True,ascending=False)\n",
    "data.reset_index(inplace=True,drop=True)\n",
    "data.head()"
   ]
  },
  {
   "cell_type": "markdown",
   "metadata": {},
   "source": [
    "### 求解RSI(5)和CCI(5)"
   ]
  },
  {
   "cell_type": "code",
   "execution_count": 54,
   "metadata": {},
   "outputs": [
    {
     "data": {
      "text/html": [
       "<div>\n",
       "<style scoped>\n",
       "    .dataframe tbody tr th:only-of-type {\n",
       "        vertical-align: middle;\n",
       "    }\n",
       "\n",
       "    .dataframe tbody tr th {\n",
       "        vertical-align: top;\n",
       "    }\n",
       "\n",
       "    .dataframe thead th {\n",
       "        text-align: right;\n",
       "    }\n",
       "</style>\n",
       "<table border=\"1\" class=\"dataframe\">\n",
       "  <thead>\n",
       "    <tr style=\"text-align: right;\">\n",
       "      <th></th>\n",
       "      <th>close</th>\n",
       "      <th>high</th>\n",
       "      <th>low</th>\n",
       "      <th>p_change</th>\n",
       "      <th>ma5</th>\n",
       "      <th>rsi5</th>\n",
       "    </tr>\n",
       "  </thead>\n",
       "  <tbody>\n",
       "    <tr>\n",
       "      <th>0</th>\n",
       "      <td>6.30</td>\n",
       "      <td>6.42</td>\n",
       "      <td>6.23</td>\n",
       "      <td>-0.63</td>\n",
       "      <td>6.410</td>\n",
       "      <td>NaN</td>\n",
       "    </tr>\n",
       "    <tr>\n",
       "      <th>1</th>\n",
       "      <td>6.32</td>\n",
       "      <td>6.33</td>\n",
       "      <td>6.15</td>\n",
       "      <td>0.32</td>\n",
       "      <td>6.374</td>\n",
       "      <td>NaN</td>\n",
       "    </tr>\n",
       "    <tr>\n",
       "      <th>2</th>\n",
       "      <td>6.31</td>\n",
       "      <td>6.33</td>\n",
       "      <td>6.25</td>\n",
       "      <td>-0.16</td>\n",
       "      <td>6.336</td>\n",
       "      <td>NaN</td>\n",
       "    </tr>\n",
       "    <tr>\n",
       "      <th>3</th>\n",
       "      <td>6.30</td>\n",
       "      <td>6.37</td>\n",
       "      <td>6.28</td>\n",
       "      <td>-0.16</td>\n",
       "      <td>6.314</td>\n",
       "      <td>NaN</td>\n",
       "    </tr>\n",
       "    <tr>\n",
       "      <th>4</th>\n",
       "      <td>6.44</td>\n",
       "      <td>6.46</td>\n",
       "      <td>6.27</td>\n",
       "      <td>2.22</td>\n",
       "      <td>6.334</td>\n",
       "      <td>NaN</td>\n",
       "    </tr>\n",
       "    <tr>\n",
       "      <th>5</th>\n",
       "      <td>6.36</td>\n",
       "      <td>6.45</td>\n",
       "      <td>6.34</td>\n",
       "      <td>-1.24</td>\n",
       "      <td>6.346</td>\n",
       "      <td>62.500000</td>\n",
       "    </tr>\n",
       "    <tr>\n",
       "      <th>6</th>\n",
       "      <td>6.39</td>\n",
       "      <td>6.39</td>\n",
       "      <td>6.27</td>\n",
       "      <td>0.47</td>\n",
       "      <td>6.360</td>\n",
       "      <td>54.054054</td>\n",
       "    </tr>\n",
       "    <tr>\n",
       "      <th>7</th>\n",
       "      <td>6.31</td>\n",
       "      <td>6.39</td>\n",
       "      <td>6.25</td>\n",
       "      <td>-1.25</td>\n",
       "      <td>6.360</td>\n",
       "      <td>77.181208</td>\n",
       "    </tr>\n",
       "    <tr>\n",
       "      <th>8</th>\n",
       "      <td>6.17</td>\n",
       "      <td>6.30</td>\n",
       "      <td>6.11</td>\n",
       "      <td>-2.22</td>\n",
       "      <td>6.334</td>\n",
       "      <td>85.030270</td>\n",
       "    </tr>\n",
       "    <tr>\n",
       "      <th>9</th>\n",
       "      <td>6.36</td>\n",
       "      <td>6.79</td>\n",
       "      <td>6.24</td>\n",
       "      <td>3.08</td>\n",
       "      <td>6.318</td>\n",
       "      <td>85.030270</td>\n",
       "    </tr>\n",
       "  </tbody>\n",
       "</table>\n",
       "</div>"
      ],
      "text/plain": [
       "   close  high   low  p_change    ma5       rsi5\n",
       "0   6.30  6.42  6.23     -0.63  6.410        NaN\n",
       "1   6.32  6.33  6.15      0.32  6.374        NaN\n",
       "2   6.31  6.33  6.25     -0.16  6.336        NaN\n",
       "3   6.30  6.37  6.28     -0.16  6.314        NaN\n",
       "4   6.44  6.46  6.27      2.22  6.334        NaN\n",
       "5   6.36  6.45  6.34     -1.24  6.346  62.500000\n",
       "6   6.39  6.39  6.27      0.47  6.360  54.054054\n",
       "7   6.31  6.39  6.25     -1.25  6.360  77.181208\n",
       "8   6.17  6.30  6.11     -2.22  6.334  85.030270\n",
       "9   6.36  6.79  6.24      3.08  6.318  85.030270"
      ]
     },
     "execution_count": 54,
     "metadata": {},
     "output_type": "execute_result"
    }
   ],
   "source": [
    "# RSI(n) = n日内收盘价涨数平均值 / (n日内收盘价涨数平均值 + n日内收盘价跌幅平均值)*100\n",
    "data['rsi5'] = talib.RSI(np.array(df['close']), timeperiod=5)\n",
    "data.head(10)"
   ]
  },
  {
   "cell_type": "code",
   "execution_count": 55,
   "metadata": {},
   "outputs": [
    {
     "data": {
      "text/html": [
       "<div>\n",
       "<style scoped>\n",
       "    .dataframe tbody tr th:only-of-type {\n",
       "        vertical-align: middle;\n",
       "    }\n",
       "\n",
       "    .dataframe tbody tr th {\n",
       "        vertical-align: top;\n",
       "    }\n",
       "\n",
       "    .dataframe thead th {\n",
       "        text-align: right;\n",
       "    }\n",
       "</style>\n",
       "<table border=\"1\" class=\"dataframe\">\n",
       "  <thead>\n",
       "    <tr style=\"text-align: right;\">\n",
       "      <th></th>\n",
       "      <th>close</th>\n",
       "      <th>high</th>\n",
       "      <th>low</th>\n",
       "      <th>p_change</th>\n",
       "      <th>ma5</th>\n",
       "      <th>rsi5</th>\n",
       "      <th>cci5</th>\n",
       "    </tr>\n",
       "  </thead>\n",
       "  <tbody>\n",
       "    <tr>\n",
       "      <th>0</th>\n",
       "      <td>6.30</td>\n",
       "      <td>6.42</td>\n",
       "      <td>6.23</td>\n",
       "      <td>-0.63</td>\n",
       "      <td>6.410</td>\n",
       "      <td>NaN</td>\n",
       "      <td>NaN</td>\n",
       "    </tr>\n",
       "    <tr>\n",
       "      <th>1</th>\n",
       "      <td>6.32</td>\n",
       "      <td>6.33</td>\n",
       "      <td>6.15</td>\n",
       "      <td>0.32</td>\n",
       "      <td>6.374</td>\n",
       "      <td>NaN</td>\n",
       "      <td>NaN</td>\n",
       "    </tr>\n",
       "    <tr>\n",
       "      <th>2</th>\n",
       "      <td>6.31</td>\n",
       "      <td>6.33</td>\n",
       "      <td>6.25</td>\n",
       "      <td>-0.16</td>\n",
       "      <td>6.336</td>\n",
       "      <td>NaN</td>\n",
       "      <td>NaN</td>\n",
       "    </tr>\n",
       "    <tr>\n",
       "      <th>3</th>\n",
       "      <td>6.30</td>\n",
       "      <td>6.37</td>\n",
       "      <td>6.28</td>\n",
       "      <td>-0.16</td>\n",
       "      <td>6.314</td>\n",
       "      <td>NaN</td>\n",
       "      <td>NaN</td>\n",
       "    </tr>\n",
       "    <tr>\n",
       "      <th>4</th>\n",
       "      <td>6.44</td>\n",
       "      <td>6.46</td>\n",
       "      <td>6.27</td>\n",
       "      <td>2.22</td>\n",
       "      <td>6.334</td>\n",
       "      <td>NaN</td>\n",
       "      <td>-38.793103</td>\n",
       "    </tr>\n",
       "    <tr>\n",
       "      <th>5</th>\n",
       "      <td>6.36</td>\n",
       "      <td>6.45</td>\n",
       "      <td>6.34</td>\n",
       "      <td>-1.24</td>\n",
       "      <td>6.346</td>\n",
       "      <td>62.500000</td>\n",
       "      <td>-87.431694</td>\n",
       "    </tr>\n",
       "    <tr>\n",
       "      <th>6</th>\n",
       "      <td>6.39</td>\n",
       "      <td>6.39</td>\n",
       "      <td>6.27</td>\n",
       "      <td>0.47</td>\n",
       "      <td>6.360</td>\n",
       "      <td>54.054054</td>\n",
       "      <td>-9.259259</td>\n",
       "    </tr>\n",
       "    <tr>\n",
       "      <th>7</th>\n",
       "      <td>6.31</td>\n",
       "      <td>6.39</td>\n",
       "      <td>6.25</td>\n",
       "      <td>-1.25</td>\n",
       "      <td>6.360</td>\n",
       "      <td>77.181208</td>\n",
       "      <td>88.888889</td>\n",
       "    </tr>\n",
       "    <tr>\n",
       "      <th>8</th>\n",
       "      <td>6.17</td>\n",
       "      <td>6.30</td>\n",
       "      <td>6.11</td>\n",
       "      <td>-2.22</td>\n",
       "      <td>6.334</td>\n",
       "      <td>85.030270</td>\n",
       "      <td>101.851852</td>\n",
       "    </tr>\n",
       "    <tr>\n",
       "      <th>9</th>\n",
       "      <td>6.36</td>\n",
       "      <td>6.79</td>\n",
       "      <td>6.24</td>\n",
       "      <td>3.08</td>\n",
       "      <td>6.318</td>\n",
       "      <td>85.030270</td>\n",
       "      <td>32.544379</td>\n",
       "    </tr>\n",
       "  </tbody>\n",
       "</table>\n",
       "</div>"
      ],
      "text/plain": [
       "   close  high   low  p_change    ma5       rsi5        cci5\n",
       "0   6.30  6.42  6.23     -0.63  6.410        NaN         NaN\n",
       "1   6.32  6.33  6.15      0.32  6.374        NaN         NaN\n",
       "2   6.31  6.33  6.25     -0.16  6.336        NaN         NaN\n",
       "3   6.30  6.37  6.28     -0.16  6.314        NaN         NaN\n",
       "4   6.44  6.46  6.27      2.22  6.334        NaN  -38.793103\n",
       "5   6.36  6.45  6.34     -1.24  6.346  62.500000  -87.431694\n",
       "6   6.39  6.39  6.27      0.47  6.360  54.054054   -9.259259\n",
       "7   6.31  6.39  6.25     -1.25  6.360  77.181208   88.888889\n",
       "8   6.17  6.30  6.11     -2.22  6.334  85.030270  101.851852\n",
       "9   6.36  6.79  6.24      3.08  6.318  85.030270   32.544379"
      ]
     },
     "execution_count": 55,
     "metadata": {},
     "output_type": "execute_result"
    }
   ],
   "source": [
    "# CCI(N)=(TP－MA(N))÷MD÷0.015\n",
    "# TP =(最高价+最低价+收盘价)/3；MD = 最近N日(MA － 收盘价)的累计之和/N\n",
    "data['cci5'] = talib.CCI(np.array(df['high']),np.array(df['low']),np.array(df['close']), timeperiod=5)\n",
    "data.head(10)"
   ]
  },
  {
   "cell_type": "markdown",
   "metadata": {},
   "source": [
    "### 划分测试和训练集"
   ]
  },
  {
   "cell_type": "code",
   "execution_count": 56,
   "metadata": {},
   "outputs": [
    {
     "data": {
      "text/html": [
       "<div>\n",
       "<style scoped>\n",
       "    .dataframe tbody tr th:only-of-type {\n",
       "        vertical-align: middle;\n",
       "    }\n",
       "\n",
       "    .dataframe tbody tr th {\n",
       "        vertical-align: top;\n",
       "    }\n",
       "\n",
       "    .dataframe thead th {\n",
       "        text-align: right;\n",
       "    }\n",
       "</style>\n",
       "<table border=\"1\" class=\"dataframe\">\n",
       "  <thead>\n",
       "    <tr style=\"text-align: right;\">\n",
       "      <th></th>\n",
       "      <th>close</th>\n",
       "      <th>high</th>\n",
       "      <th>low</th>\n",
       "      <th>p_change</th>\n",
       "      <th>ma5</th>\n",
       "      <th>rsi5</th>\n",
       "      <th>cci5</th>\n",
       "    </tr>\n",
       "  </thead>\n",
       "  <tbody>\n",
       "    <tr>\n",
       "      <th>0</th>\n",
       "      <td>6.36</td>\n",
       "      <td>6.45</td>\n",
       "      <td>6.34</td>\n",
       "      <td>-1.24</td>\n",
       "      <td>6.346</td>\n",
       "      <td>62.500000</td>\n",
       "      <td>-87.431694</td>\n",
       "    </tr>\n",
       "    <tr>\n",
       "      <th>1</th>\n",
       "      <td>6.39</td>\n",
       "      <td>6.39</td>\n",
       "      <td>6.27</td>\n",
       "      <td>0.47</td>\n",
       "      <td>6.360</td>\n",
       "      <td>54.054054</td>\n",
       "      <td>-9.259259</td>\n",
       "    </tr>\n",
       "    <tr>\n",
       "      <th>2</th>\n",
       "      <td>6.31</td>\n",
       "      <td>6.39</td>\n",
       "      <td>6.25</td>\n",
       "      <td>-1.25</td>\n",
       "      <td>6.360</td>\n",
       "      <td>77.181208</td>\n",
       "      <td>88.888889</td>\n",
       "    </tr>\n",
       "    <tr>\n",
       "      <th>3</th>\n",
       "      <td>6.17</td>\n",
       "      <td>6.30</td>\n",
       "      <td>6.11</td>\n",
       "      <td>-2.22</td>\n",
       "      <td>6.334</td>\n",
       "      <td>85.030270</td>\n",
       "      <td>101.851852</td>\n",
       "    </tr>\n",
       "    <tr>\n",
       "      <th>4</th>\n",
       "      <td>6.36</td>\n",
       "      <td>6.79</td>\n",
       "      <td>6.24</td>\n",
       "      <td>3.08</td>\n",
       "      <td>6.318</td>\n",
       "      <td>85.030270</td>\n",
       "      <td>32.544379</td>\n",
       "    </tr>\n",
       "  </tbody>\n",
       "</table>\n",
       "</div>"
      ],
      "text/plain": [
       "   close  high   low  p_change    ma5       rsi5        cci5\n",
       "0   6.36  6.45  6.34     -1.24  6.346  62.500000  -87.431694\n",
       "1   6.39  6.39  6.27      0.47  6.360  54.054054   -9.259259\n",
       "2   6.31  6.39  6.25     -1.25  6.360  77.181208   88.888889\n",
       "3   6.17  6.30  6.11     -2.22  6.334  85.030270  101.851852\n",
       "4   6.36  6.79  6.24      3.08  6.318  85.030270   32.544379"
      ]
     },
     "execution_count": 56,
     "metadata": {},
     "output_type": "execute_result"
    }
   ],
   "source": [
    "data = data[5:]\n",
    "data.reset_index(inplace=True,drop=True)\n",
    "data_train = data[:36]\n",
    "data_test = data[36:]\n",
    "data_test.reset_index(inplace=True,drop=True)\n",
    "data_train.head()"
   ]
  },
  {
   "cell_type": "code",
   "execution_count": 57,
   "metadata": {},
   "outputs": [
    {
     "data": {
      "image/png": "[encoded data removed]",
      "text/plain": [
       "<Figure size 1440x360 with 3 Axes>"
      ]
     },
     "metadata": {},
     "output_type": "display_data"
    }
   ],
   "source": [
    "y = list(data_train['close'])\n",
    "i = 1\n",
    "plt.figure(facecolor='white',figsize=(20,5))\n",
    "for index in ['ma5','rsi5','cci5']:\n",
    "    x = list(data_train[index])\n",
    "    plt.subplot(1,5,i)\n",
    "    plt.xlabel(index)\n",
    "    plt.ylabel('close')\n",
    "    plt.title('close with ' + index)\n",
    "    plt.plot(x,y,'or')\n",
    "    i = i + 2"
   ]
  },
  {
   "cell_type": "markdown",
   "metadata": {},
   "source": [
    "## 多元线性回归"
   ]
  },
  {
   "cell_type": "markdown",
   "metadata": {},
   "source": [
    "### 多元线性回归模型"
   ]
  },
  {
   "cell_type": "markdown",
   "metadata": {},
   "source": [
    "![](../images/lr1.png)"
   ]
  },
  {
   "cell_type": "markdown",
   "metadata": {},
   "source": [
    "![](../images/lr2.png)"
   ]
  },
  {
   "cell_type": "markdown",
   "metadata": {},
   "source": [
    "![](../images/lr3.png)"
   ]
  },
  {
   "cell_type": "markdown",
   "metadata": {},
   "source": [
    "### 模型求解"
   ]
  },
  {
   "cell_type": "markdown",
   "metadata": {},
   "source": [
    "使用sklearn的LinearRegression函数"
   ]
  },
  {
   "cell_type": "code",
   "execution_count": 58,
   "metadata": {},
   "outputs": [
    {
     "data": {
      "text/plain": [
       "array([6.27819353, 6.27486959, 6.31075991, 6.30085803, 6.28843001,\n",
       "       6.21724547, 6.10743733, 6.03938088, 6.04067241, 5.9629838 ,\n",
       "       5.90560533, 5.87389291, 5.8813194 , 5.85099558, 5.83675208,\n",
       "       5.85519672, 5.87712715, 5.90802969, 5.89760206, 5.91213804,\n",
       "       5.85159339, 5.83968154, 5.83886922, 5.84839848, 5.84733573,\n",
       "       5.79941088, 5.81043518, 5.81451889, 5.8210205 , 5.85178036,\n",
       "       5.87119222, 5.81517895, 5.80023841, 5.78065521, 5.77405267,\n",
       "       5.76614848])"
      ]
     },
     "execution_count": 58,
     "metadata": {},
     "output_type": "execute_result"
    }
   ],
   "source": [
    "model = LinearRegression(fit_intercept=True)\n",
    "indicators = ['ma5','rsi5','cci5']\n",
    "X = data_train[indicators]\n",
    "y = data_train['close']\n",
    "model.fit(X,y)\n",
    "predict_close = model.predict(X)\n",
    "predict_close"
   ]
  },
  {
   "cell_type": "markdown",
   "metadata": {},
   "source": [
    "### 结果展示"
   ]
  },
  {
   "cell_type": "markdown",
   "metadata": {},
   "source": [
    "1. R2 决定系数（拟合优度，方程的变量对y的解释能力）：模型越好：r2→1；模型越差：r2→0\n",
    "2. 均方差\n",
    "3. 相关系数"
   ]
  },
  {
   "cell_type": "code",
   "execution_count": 59,
   "metadata": {},
   "outputs": [
    {
     "name": "stdout",
     "output_type": "stream",
     "text": [
      "Coefficients: \n",
      " [ 8.65334733e-01  1.63865595e-03 -2.04499800e-05]\n",
      "Mean squared error: 0.00\n",
      "Variance score: 0.89\n"
     ]
    },
    {
     "data": {
      "text/plain": [
       "<matplotlib.axes._subplots.AxesSubplot at 0x13437669708>"
      ]
     },
     "execution_count": 59,
     "metadata": {},
     "output_type": "execute_result"
    },
    {
     "data": {
      "image/png": "[encoded data removed]",
      "text/plain": [
       "<Figure size 432x288 with 1 Axes>"
      ]
     },
     "metadata": {
      "needs_background": "light"
     },
     "output_type": "display_data"
    }
   ],
   "source": [
    "# 指标\n",
    "print('Coefficients: \\n', model.coef_)\n",
    "print(\"Mean squared error: %.2f\" % mean_squared_error(data_train['close'], predict_close))\n",
    "print('Variance score: %.2f' % r2_score(data_train['close'], predict_close))\n",
    "\n",
    "data_train['predict'] = predict_close\n",
    "data_train[['close','predict']].plot(alpha=0.5)"
   ]
  },
  {
   "cell_type": "markdown",
   "metadata": {},
   "source": [
    "## 多元非线性回归"
   ]
  },
  {
   "cell_type": "markdown",
   "metadata": {},
   "source": [
    "**引入ma5、cci5的二次项、rsi5的对数项、ma5的三次项，按线性回归求解即可**"
   ]
  },
  {
   "cell_type": "code",
   "execution_count": 60,
   "metadata": {},
   "outputs": [
    {
     "data": {
      "text/html": [
       "<div>\n",
       "<style scoped>\n",
       "    .dataframe tbody tr th:only-of-type {\n",
       "        vertical-align: middle;\n",
       "    }\n",
       "\n",
       "    .dataframe tbody tr th {\n",
       "        vertical-align: top;\n",
       "    }\n",
       "\n",
       "    .dataframe thead th {\n",
       "        text-align: right;\n",
       "    }\n",
       "</style>\n",
       "<table border=\"1\" class=\"dataframe\">\n",
       "  <thead>\n",
       "    <tr style=\"text-align: right;\">\n",
       "      <th></th>\n",
       "      <th>close</th>\n",
       "      <th>high</th>\n",
       "      <th>low</th>\n",
       "      <th>p_change</th>\n",
       "      <th>ma5</th>\n",
       "      <th>rsi5</th>\n",
       "      <th>cci5</th>\n",
       "      <th>predict</th>\n",
       "      <th>ma5_2</th>\n",
       "      <th>cci5_2</th>\n",
       "      <th>rsi5_2</th>\n",
       "      <th>rsi5_log</th>\n",
       "      <th>rsi5_3</th>\n",
       "    </tr>\n",
       "  </thead>\n",
       "  <tbody>\n",
       "    <tr>\n",
       "      <th>0</th>\n",
       "      <td>6.36</td>\n",
       "      <td>6.45</td>\n",
       "      <td>6.34</td>\n",
       "      <td>-1.24</td>\n",
       "      <td>6.346</td>\n",
       "      <td>62.500000</td>\n",
       "      <td>-87.431694</td>\n",
       "      <td>6.278194</td>\n",
       "      <td>40.271716</td>\n",
       "      <td>7644.301114</td>\n",
       "      <td>3906.250000</td>\n",
       "      <td>4.135167</td>\n",
       "      <td>244140.625000</td>\n",
       "    </tr>\n",
       "    <tr>\n",
       "      <th>1</th>\n",
       "      <td>6.39</td>\n",
       "      <td>6.39</td>\n",
       "      <td>6.27</td>\n",
       "      <td>0.47</td>\n",
       "      <td>6.360</td>\n",
       "      <td>54.054054</td>\n",
       "      <td>-9.259259</td>\n",
       "      <td>6.274870</td>\n",
       "      <td>40.449600</td>\n",
       "      <td>85.733882</td>\n",
       "      <td>2921.840760</td>\n",
       "      <td>3.989985</td>\n",
       "      <td>157937.338361</td>\n",
       "    </tr>\n",
       "    <tr>\n",
       "      <th>2</th>\n",
       "      <td>6.31</td>\n",
       "      <td>6.39</td>\n",
       "      <td>6.25</td>\n",
       "      <td>-1.25</td>\n",
       "      <td>6.360</td>\n",
       "      <td>77.181208</td>\n",
       "      <td>88.888889</td>\n",
       "      <td>6.310760</td>\n",
       "      <td>40.449600</td>\n",
       "      <td>7901.234568</td>\n",
       "      <td>5956.938877</td>\n",
       "      <td>4.346156</td>\n",
       "      <td>459763.738800</td>\n",
       "    </tr>\n",
       "    <tr>\n",
       "      <th>3</th>\n",
       "      <td>6.17</td>\n",
       "      <td>6.30</td>\n",
       "      <td>6.11</td>\n",
       "      <td>-2.22</td>\n",
       "      <td>6.334</td>\n",
       "      <td>85.030270</td>\n",
       "      <td>101.851852</td>\n",
       "      <td>6.300858</td>\n",
       "      <td>40.119556</td>\n",
       "      <td>10373.799726</td>\n",
       "      <td>7230.146761</td>\n",
       "      <td>4.443007</td>\n",
       "      <td>614781.328884</td>\n",
       "    </tr>\n",
       "    <tr>\n",
       "      <th>4</th>\n",
       "      <td>6.36</td>\n",
       "      <td>6.79</td>\n",
       "      <td>6.24</td>\n",
       "      <td>3.08</td>\n",
       "      <td>6.318</td>\n",
       "      <td>85.030270</td>\n",
       "      <td>32.544379</td>\n",
       "      <td>6.288430</td>\n",
       "      <td>39.917124</td>\n",
       "      <td>1059.136585</td>\n",
       "      <td>7230.146761</td>\n",
       "      <td>4.443007</td>\n",
       "      <td>614781.328884</td>\n",
       "    </tr>\n",
       "  </tbody>\n",
       "</table>\n",
       "</div>"
      ],
      "text/plain": [
       "   close  high   low  p_change    ma5       rsi5        cci5   predict  \\\n",
       "0   6.36  6.45  6.34     -1.24  6.346  62.500000  -87.431694  6.278194   \n",
       "1   6.39  6.39  6.27      0.47  6.360  54.054054   -9.259259  6.274870   \n",
       "2   6.31  6.39  6.25     -1.25  6.360  77.181208   88.888889  6.310760   \n",
       "3   6.17  6.30  6.11     -2.22  6.334  85.030270  101.851852  6.300858   \n",
       "4   6.36  6.79  6.24      3.08  6.318  85.030270   32.544379  6.288430   \n",
       "\n",
       "       ma5_2        cci5_2       rsi5_2  rsi5_log         rsi5_3  \n",
       "0  40.271716   7644.301114  3906.250000  4.135167  244140.625000  \n",
       "1  40.449600     85.733882  2921.840760  3.989985  157937.338361  \n",
       "2  40.449600   7901.234568  5956.938877  4.346156  459763.738800  \n",
       "3  40.119556  10373.799726  7230.146761  4.443007  614781.328884  \n",
       "4  39.917124   1059.136585  7230.146761  4.443007  614781.328884  "
      ]
     },
     "execution_count": 60,
     "metadata": {},
     "output_type": "execute_result"
    }
   ],
   "source": [
    "data_train['ma5_2'] = np.power(data_train['ma5'],2)\n",
    "data_train['cci5_2'] = np.power(data_train['cci5'],2)\n",
    "data_train['rsi5_2'] = np.power(data_train['rsi5'],2)\n",
    "data_train['rsi5_log'] = np.log(data_train['rsi5'])\n",
    "data_train['rsi5_3'] = np.power(data_train['rsi5'],3)\n",
    "data_train.head()"
   ]
  },
  {
   "cell_type": "markdown",
   "metadata": {},
   "source": [
    "### 模型求解"
   ]
  },
  {
   "cell_type": "code",
   "execution_count": 62,
   "metadata": {},
   "outputs": [
    {
     "data": {
      "text/plain": [
       "array([6.29007936, 6.30588695, 6.31361933, 6.28831839, 6.28820672,\n",
       "       6.22858733, 6.07649769, 6.02713313, 6.04694473, 5.9585968 ,\n",
       "       5.86446306, 5.86716025, 5.89392172, 5.85501705, 5.83638731,\n",
       "       5.86508121, 5.86457426, 5.88755418, 5.90587689, 5.91192348,\n",
       "       5.83535081, 5.84942845, 5.8514219 , 5.84236791, 5.83799774,\n",
       "       5.82316581, 5.8146892 , 5.82198442, 5.82833469, 5.81701357,\n",
       "       5.8718691 , 5.81167305, 5.81148198, 5.80113117, 5.80342194,\n",
       "       5.75283842])"
      ]
     },
     "execution_count": 62,
     "metadata": {},
     "output_type": "execute_result"
    }
   ],
   "source": [
    "model = LinearRegression(fit_intercept=True)\n",
    "indicators = ['ma5','rsi5_log','cci5','ma5_2','cci5_2']\n",
    "X = data_train[indicators]\n",
    "y = data_train['close']\n",
    "model.fit(X,y)\n",
    "non_predict_close = model.predict(X)\n",
    "non_predict_close"
   ]
  },
  {
   "cell_type": "markdown",
   "metadata": {},
   "source": [
    "### 结果展示"
   ]
  },
  {
   "cell_type": "code",
   "execution_count": 63,
   "metadata": {},
   "outputs": [
    {
     "name": "stdout",
     "output_type": "stream",
     "text": [
      "Coefficients: \n",
      " [-2.98868118e+00  6.28634843e-02 -2.26504182e-05  3.17737985e-01\n",
      " -1.59103114e-06]\n",
      "Mean squared error: 0.00\n",
      "Variance score: 0.89\n"
     ]
    },
    {
     "data": {
      "text/plain": [
       "<matplotlib.axes._subplots.AxesSubplot at 0x13437470388>"
      ]
     },
     "execution_count": 63,
     "metadata": {},
     "output_type": "execute_result"
    },
    {
     "data": {
      "image/png": "[encoded data removed]",
      "text/plain": [
       "<Figure size 432x288 with 1 Axes>"
      ]
     },
     "metadata": {
      "needs_background": "light"
     },
     "output_type": "display_data"
    }
   ],
   "source": [
    "# 指标\n",
    "print('Coefficients: \\n', model.coef_)\n",
    "print(\"Mean squared error: %.2f\" % mean_squared_error(data_train['close'], non_predict_close))\n",
    "print('Variance score: %.2f' % r2_score(data_train['close'], non_predict_close))\n",
    "\n",
    "data_train['non_predict'] = non_predict_close\n",
    "data_train[['close','non_predict']].plot(alpha=0.5)"
   ]
  },
  {
   "cell_type": "code",
   "execution_count": null,
   "metadata": {},
   "outputs": [],
   "source": []
  }
 ],
 "metadata": {
  "kernelspec": {
   "display_name": "Python 3",
   "language": "python",
   "name": "python3"
  },
  "language_info": {
   "codemirror_mode": {
    "name": "ipython",
    "version": 3
   },
   "file_extension": ".py",
   "mimetype": "text/x-python",
   "name": "python",
   "nbconvert_exporter": "python",
   "pygments_lexer": "ipython3",
   "version": "3.7.6"
  },
  "toc": {
   "base_numbering": 1,
   "nav_menu": {},
   "number_sections": true,
   "sideBar": true,
   "skip_h1_title": false,
   "title_cell": "Table of Contents",
   "title_sidebar": "Contents",
   "toc_cell": false,
   "toc_position": {
    "height": "calc(100% - 180px)",
    "left": "10px",
    "top": "150px",
    "width": "307.2px"
   },
   "toc_section_display": true,
   "toc_window_display": true
  },
  "varInspector": {
   "cols": {
    "lenName": 16,
    "lenType": 16,
    "lenVar": 40
   },
   "kernels_config": {
    "python": {
     "delete_cmd_postfix": "",
     "delete_cmd_prefix": "del ",
     "library": "var_list.py",
     "varRefreshCmd": "print(var_dic_list())"
    },
    "r": {
     "delete_cmd_postfix": ") ",
     "delete_cmd_prefix": "rm(",
     "library": "var_list.r",
     "varRefreshCmd": "cat(var_dic_list()) "
    }
   },
   "types_to_exclude": [
    "module",
    "function",
    "builtin_function_or_method",
    "instance",
    "_Feature"
   ],
   "window_display": false
  }
 },
 "nbformat": 4,
 "nbformat_minor": 4
}
