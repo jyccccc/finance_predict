{
 "cells": [
  {
   "cell_type": "markdown",
   "metadata": {},
   "source": [
    "# 线性回归"
   ]
  },
  {
   "cell_type": "markdown",
   "metadata": {},
   "source": [
    "## 技术指标"
   ]
  },
  {
   "cell_type": "markdown",
   "metadata": {},
   "source": [
    "### 相对强弱指标 RSI"
   ]
  },
  {
   "cell_type": "markdown",
   "metadata": {},
   "source": [
    "RSI是根据一定时期内上涨和下跌幅度之和的比率制作的技术曲线，分析市场买沽盘的意向和实力, 得到未来市场的走势。计算公式如下：  \n",
    "**`RSI(n) = n日内收盘价涨数平均值 / (n日内收盘价涨数平均值 + n日内收盘价跌幅平均值)*100`**"
   ]
  },
  {
   "cell_type": "markdown",
   "metadata": {},
   "source": [
    "### 移动平均线 MA"
   ]
  },
  {
   "cell_type": "markdown",
   "metadata": {},
   "source": [
    "MA是将一段时期内的股票价格平均值连成曲线, 以显示股价的历史波动情况, 反映股价指数未来发展趋势。计算公式如下：  \n",
    "**`MA(N) = (第1天收盘价 + 第2天收盘价 + …… + 第N天收盘价)/N`**"
   ]
  },
  {
   "cell_type": "markdown",
   "metadata": {},
   "source": [
    "### 顺势指标CCI"
   ]
  },
  {
   "cell_type": "markdown",
   "metadata": {},
   "source": [
    "衡量股价是否超出常态分布范围，引入了价格与固定期间的股价平均区间的偏离程度的概念, 强调股价平均绝对偏差在股市技术分析中的重要性。计算公式如下：  \n",
    "**`CCI(N)=(TP－MA(N))÷MD÷0.015`**，其中：TP =(最高价+最低价+收盘价)/3；MD = 最近N日(MA － 收盘价)的累计之和/N"
   ]
  },
  {
   "cell_type": "markdown",
   "metadata": {},
   "source": [
    "## 数据处理"
   ]
  },
  {
   "cell_type": "markdown",
   "metadata": {},
   "source": [
    "指标我们选取**RSI(5)、MA(5)、CCI(5)作为自变量**"
   ]
  },
  {
   "cell_type": "markdown",
   "metadata": {},
   "source": [
    "### 获取数据（tushare）"
   ]
  },
  {
   "cell_type": "code",
   "execution_count": 127,
   "metadata": {},
   "outputs": [],
   "source": [
    "import pandas as pd\n",
    "import numpy as np\n",
    "import tushare as ts\n",
    "import matplotlib.pyplot as plt\n",
    "import talib\n",
    "import warnings\n",
    "import datetime\n",
    "from sklearn.linear_model import LinearRegression\n",
    "warnings.filterwarnings(\"ignore\")\n",
    "plt.rcParams['figure.figsize'] = 15, 5\n",
    "%matplotlib inline"
   ]
  },
  {
   "cell_type": "code",
   "execution_count": 122,
   "metadata": {},
   "outputs": [
    {
     "data": {
      "text/html": [
       "<div>\n",
       "<style scoped>\n",
       "    .dataframe tbody tr th:only-of-type {\n",
       "        vertical-align: middle;\n",
       "    }\n",
       "\n",
       "    .dataframe tbody tr th {\n",
       "        vertical-align: top;\n",
       "    }\n",
       "\n",
       "    .dataframe thead th {\n",
       "        text-align: right;\n",
       "    }\n",
       "</style>\n",
       "<table border=\"1\" class=\"dataframe\">\n",
       "  <thead>\n",
       "    <tr style=\"text-align: right;\">\n",
       "      <th></th>\n",
       "      <th>close</th>\n",
       "      <th>high</th>\n",
       "      <th>low</th>\n",
       "      <th>p_change</th>\n",
       "      <th>ma5</th>\n",
       "    </tr>\n",
       "  </thead>\n",
       "  <tbody>\n",
       "    <tr>\n",
       "      <th>0</th>\n",
       "      <td>6.30</td>\n",
       "      <td>6.42</td>\n",
       "      <td>6.23</td>\n",
       "      <td>-0.63</td>\n",
       "      <td>6.410</td>\n",
       "    </tr>\n",
       "    <tr>\n",
       "      <th>1</th>\n",
       "      <td>6.32</td>\n",
       "      <td>6.33</td>\n",
       "      <td>6.15</td>\n",
       "      <td>0.32</td>\n",
       "      <td>6.374</td>\n",
       "    </tr>\n",
       "    <tr>\n",
       "      <th>2</th>\n",
       "      <td>6.31</td>\n",
       "      <td>6.33</td>\n",
       "      <td>6.25</td>\n",
       "      <td>-0.16</td>\n",
       "      <td>6.336</td>\n",
       "    </tr>\n",
       "    <tr>\n",
       "      <th>3</th>\n",
       "      <td>6.30</td>\n",
       "      <td>6.37</td>\n",
       "      <td>6.28</td>\n",
       "      <td>-0.16</td>\n",
       "      <td>6.314</td>\n",
       "    </tr>\n",
       "    <tr>\n",
       "      <th>4</th>\n",
       "      <td>6.44</td>\n",
       "      <td>6.46</td>\n",
       "      <td>6.27</td>\n",
       "      <td>2.22</td>\n",
       "      <td>6.334</td>\n",
       "    </tr>\n",
       "    <tr>\n",
       "      <th>5</th>\n",
       "      <td>6.36</td>\n",
       "      <td>6.45</td>\n",
       "      <td>6.34</td>\n",
       "      <td>-1.24</td>\n",
       "      <td>6.346</td>\n",
       "    </tr>\n",
       "    <tr>\n",
       "      <th>6</th>\n",
       "      <td>6.39</td>\n",
       "      <td>6.39</td>\n",
       "      <td>6.27</td>\n",
       "      <td>0.47</td>\n",
       "      <td>6.360</td>\n",
       "    </tr>\n",
       "    <tr>\n",
       "      <th>7</th>\n",
       "      <td>6.31</td>\n",
       "      <td>6.39</td>\n",
       "      <td>6.25</td>\n",
       "      <td>-1.25</td>\n",
       "      <td>6.360</td>\n",
       "    </tr>\n",
       "    <tr>\n",
       "      <th>8</th>\n",
       "      <td>6.17</td>\n",
       "      <td>6.30</td>\n",
       "      <td>6.11</td>\n",
       "      <td>-2.22</td>\n",
       "      <td>6.334</td>\n",
       "    </tr>\n",
       "    <tr>\n",
       "      <th>9</th>\n",
       "      <td>6.36</td>\n",
       "      <td>6.79</td>\n",
       "      <td>6.24</td>\n",
       "      <td>3.08</td>\n",
       "      <td>6.318</td>\n",
       "    </tr>\n",
       "  </tbody>\n",
       "</table>\n",
       "</div>"
      ],
      "text/plain": [
       "   close  high   low  p_change    ma5\n",
       "0   6.30  6.42  6.23     -0.63  6.410\n",
       "1   6.32  6.33  6.15      0.32  6.374\n",
       "2   6.31  6.33  6.25     -0.16  6.336\n",
       "3   6.30  6.37  6.28     -0.16  6.314\n",
       "4   6.44  6.46  6.27      2.22  6.334\n",
       "5   6.36  6.45  6.34     -1.24  6.346\n",
       "6   6.39  6.39  6.27      0.47  6.360\n",
       "7   6.31  6.39  6.25     -1.25  6.360\n",
       "8   6.17  6.30  6.11     -2.22  6.334\n",
       "9   6.36  6.79  6.24      3.08  6.318"
      ]
     },
     "execution_count": 122,
     "metadata": {},
     "output_type": "execute_result"
    }
   ],
   "source": [
    "# 选取2018-07-02到2018-08-20的数据，保证07-02具有CCI(5)、RSI(5)值\n",
    "#df = ts.get_hist_data('002639',start = '2018-06-26',end = '2018-08-20')\n",
    "#with pd.ExcelWriter('../data/non_data.xlsx') as writer:\n",
    "#    df.to_excel(writer)\n",
    "df = pd.read_excel('../data/non_data.xlsx')\n",
    "data = df[['close','high','low','p_change','ma5']]\n",
    "data.sort_index(inplace=True,ascending=False)\n",
    "data.reset_index(inplace=True,drop=True)\n",
    "data.head(10)"
   ]
  },
  {
   "cell_type": "markdown",
   "metadata": {},
   "source": [
    "### 求解RSI(5)和CCI(5)"
   ]
  },
  {
   "cell_type": "code",
   "execution_count": 123,
   "metadata": {},
   "outputs": [
    {
     "data": {
      "text/html": [
       "<div>\n",
       "<style scoped>\n",
       "    .dataframe tbody tr th:only-of-type {\n",
       "        vertical-align: middle;\n",
       "    }\n",
       "\n",
       "    .dataframe tbody tr th {\n",
       "        vertical-align: top;\n",
       "    }\n",
       "\n",
       "    .dataframe thead th {\n",
       "        text-align: right;\n",
       "    }\n",
       "</style>\n",
       "<table border=\"1\" class=\"dataframe\">\n",
       "  <thead>\n",
       "    <tr style=\"text-align: right;\">\n",
       "      <th></th>\n",
       "      <th>close</th>\n",
       "      <th>high</th>\n",
       "      <th>low</th>\n",
       "      <th>p_change</th>\n",
       "      <th>ma5</th>\n",
       "      <th>rsi5</th>\n",
       "    </tr>\n",
       "  </thead>\n",
       "  <tbody>\n",
       "    <tr>\n",
       "      <th>0</th>\n",
       "      <td>6.30</td>\n",
       "      <td>6.42</td>\n",
       "      <td>6.23</td>\n",
       "      <td>-0.63</td>\n",
       "      <td>6.410</td>\n",
       "      <td>NaN</td>\n",
       "    </tr>\n",
       "    <tr>\n",
       "      <th>1</th>\n",
       "      <td>6.32</td>\n",
       "      <td>6.33</td>\n",
       "      <td>6.15</td>\n",
       "      <td>0.32</td>\n",
       "      <td>6.374</td>\n",
       "      <td>NaN</td>\n",
       "    </tr>\n",
       "    <tr>\n",
       "      <th>2</th>\n",
       "      <td>6.31</td>\n",
       "      <td>6.33</td>\n",
       "      <td>6.25</td>\n",
       "      <td>-0.16</td>\n",
       "      <td>6.336</td>\n",
       "      <td>NaN</td>\n",
       "    </tr>\n",
       "    <tr>\n",
       "      <th>3</th>\n",
       "      <td>6.30</td>\n",
       "      <td>6.37</td>\n",
       "      <td>6.28</td>\n",
       "      <td>-0.16</td>\n",
       "      <td>6.314</td>\n",
       "      <td>NaN</td>\n",
       "    </tr>\n",
       "    <tr>\n",
       "      <th>4</th>\n",
       "      <td>6.44</td>\n",
       "      <td>6.46</td>\n",
       "      <td>6.27</td>\n",
       "      <td>2.22</td>\n",
       "      <td>6.334</td>\n",
       "      <td>NaN</td>\n",
       "    </tr>\n",
       "    <tr>\n",
       "      <th>5</th>\n",
       "      <td>6.36</td>\n",
       "      <td>6.45</td>\n",
       "      <td>6.34</td>\n",
       "      <td>-1.24</td>\n",
       "      <td>6.346</td>\n",
       "      <td>78.947368</td>\n",
       "    </tr>\n",
       "    <tr>\n",
       "      <th>6</th>\n",
       "      <td>6.39</td>\n",
       "      <td>6.39</td>\n",
       "      <td>6.27</td>\n",
       "      <td>0.47</td>\n",
       "      <td>6.360</td>\n",
       "      <td>80.246914</td>\n",
       "    </tr>\n",
       "    <tr>\n",
       "      <th>7</th>\n",
       "      <td>6.31</td>\n",
       "      <td>6.39</td>\n",
       "      <td>6.25</td>\n",
       "      <td>-1.25</td>\n",
       "      <td>6.360</td>\n",
       "      <td>84.905660</td>\n",
       "    </tr>\n",
       "    <tr>\n",
       "      <th>8</th>\n",
       "      <td>6.17</td>\n",
       "      <td>6.30</td>\n",
       "      <td>6.11</td>\n",
       "      <td>-2.22</td>\n",
       "      <td>6.334</td>\n",
       "      <td>62.042223</td>\n",
       "    </tr>\n",
       "    <tr>\n",
       "      <th>9</th>\n",
       "      <td>6.36</td>\n",
       "      <td>6.79</td>\n",
       "      <td>6.24</td>\n",
       "      <td>3.08</td>\n",
       "      <td>6.318</td>\n",
       "      <td>64.436371</td>\n",
       "    </tr>\n",
       "  </tbody>\n",
       "</table>\n",
       "</div>"
      ],
      "text/plain": [
       "   close  high   low  p_change    ma5       rsi5\n",
       "0   6.30  6.42  6.23     -0.63  6.410        NaN\n",
       "1   6.32  6.33  6.15      0.32  6.374        NaN\n",
       "2   6.31  6.33  6.25     -0.16  6.336        NaN\n",
       "3   6.30  6.37  6.28     -0.16  6.314        NaN\n",
       "4   6.44  6.46  6.27      2.22  6.334        NaN\n",
       "5   6.36  6.45  6.34     -1.24  6.346  78.947368\n",
       "6   6.39  6.39  6.27      0.47  6.360  80.246914\n",
       "7   6.31  6.39  6.25     -1.25  6.360  84.905660\n",
       "8   6.17  6.30  6.11     -2.22  6.334  62.042223\n",
       "9   6.36  6.79  6.24      3.08  6.318  64.436371"
      ]
     },
     "execution_count": 123,
     "metadata": {},
     "output_type": "execute_result"
    }
   ],
   "source": [
    "# RSI(n) = n日内收盘价涨数平均值 / (n日内收盘价涨数平均值 + n日内收盘价跌幅平均值)*100\n",
    "data['rsi5'] = talib.RSI(np.array(df['close']), timeperiod=5)\n",
    "data.head(10)"
   ]
  },
  {
   "cell_type": "code",
   "execution_count": 124,
   "metadata": {},
   "outputs": [
    {
     "data": {
      "text/html": [
       "<div>\n",
       "<style scoped>\n",
       "    .dataframe tbody tr th:only-of-type {\n",
       "        vertical-align: middle;\n",
       "    }\n",
       "\n",
       "    .dataframe tbody tr th {\n",
       "        vertical-align: top;\n",
       "    }\n",
       "\n",
       "    .dataframe thead th {\n",
       "        text-align: right;\n",
       "    }\n",
       "</style>\n",
       "<table border=\"1\" class=\"dataframe\">\n",
       "  <thead>\n",
       "    <tr style=\"text-align: right;\">\n",
       "      <th></th>\n",
       "      <th>close</th>\n",
       "      <th>high</th>\n",
       "      <th>low</th>\n",
       "      <th>p_change</th>\n",
       "      <th>ma5</th>\n",
       "      <th>rsi5</th>\n",
       "      <th>cci5</th>\n",
       "    </tr>\n",
       "  </thead>\n",
       "  <tbody>\n",
       "    <tr>\n",
       "      <th>0</th>\n",
       "      <td>6.30</td>\n",
       "      <td>6.42</td>\n",
       "      <td>6.23</td>\n",
       "      <td>-0.63</td>\n",
       "      <td>6.410</td>\n",
       "      <td>NaN</td>\n",
       "      <td>NaN</td>\n",
       "    </tr>\n",
       "    <tr>\n",
       "      <th>1</th>\n",
       "      <td>6.32</td>\n",
       "      <td>6.33</td>\n",
       "      <td>6.15</td>\n",
       "      <td>0.32</td>\n",
       "      <td>6.374</td>\n",
       "      <td>NaN</td>\n",
       "      <td>NaN</td>\n",
       "    </tr>\n",
       "    <tr>\n",
       "      <th>2</th>\n",
       "      <td>6.31</td>\n",
       "      <td>6.33</td>\n",
       "      <td>6.25</td>\n",
       "      <td>-0.16</td>\n",
       "      <td>6.336</td>\n",
       "      <td>NaN</td>\n",
       "      <td>NaN</td>\n",
       "    </tr>\n",
       "    <tr>\n",
       "      <th>3</th>\n",
       "      <td>6.30</td>\n",
       "      <td>6.37</td>\n",
       "      <td>6.28</td>\n",
       "      <td>-0.16</td>\n",
       "      <td>6.314</td>\n",
       "      <td>NaN</td>\n",
       "      <td>NaN</td>\n",
       "    </tr>\n",
       "    <tr>\n",
       "      <th>4</th>\n",
       "      <td>6.44</td>\n",
       "      <td>6.46</td>\n",
       "      <td>6.27</td>\n",
       "      <td>2.22</td>\n",
       "      <td>6.334</td>\n",
       "      <td>NaN</td>\n",
       "      <td>100.000000</td>\n",
       "    </tr>\n",
       "    <tr>\n",
       "      <th>5</th>\n",
       "      <td>6.36</td>\n",
       "      <td>6.45</td>\n",
       "      <td>6.34</td>\n",
       "      <td>-1.24</td>\n",
       "      <td>6.346</td>\n",
       "      <td>78.947368</td>\n",
       "      <td>44.354839</td>\n",
       "    </tr>\n",
       "    <tr>\n",
       "      <th>6</th>\n",
       "      <td>6.39</td>\n",
       "      <td>6.39</td>\n",
       "      <td>6.27</td>\n",
       "      <td>0.47</td>\n",
       "      <td>6.360</td>\n",
       "      <td>80.246914</td>\n",
       "      <td>115.384615</td>\n",
       "    </tr>\n",
       "    <tr>\n",
       "      <th>7</th>\n",
       "      <td>6.31</td>\n",
       "      <td>6.39</td>\n",
       "      <td>6.25</td>\n",
       "      <td>-1.25</td>\n",
       "      <td>6.360</td>\n",
       "      <td>84.905660</td>\n",
       "      <td>114.035088</td>\n",
       "    </tr>\n",
       "    <tr>\n",
       "      <th>8</th>\n",
       "      <td>6.17</td>\n",
       "      <td>6.30</td>\n",
       "      <td>6.11</td>\n",
       "      <td>-2.22</td>\n",
       "      <td>6.334</td>\n",
       "      <td>62.042223</td>\n",
       "      <td>-37.974684</td>\n",
       "    </tr>\n",
       "    <tr>\n",
       "      <th>9</th>\n",
       "      <td>6.36</td>\n",
       "      <td>6.79</td>\n",
       "      <td>6.24</td>\n",
       "      <td>3.08</td>\n",
       "      <td>6.318</td>\n",
       "      <td>64.436371</td>\n",
       "      <td>-73.476703</td>\n",
       "    </tr>\n",
       "  </tbody>\n",
       "</table>\n",
       "</div>"
      ],
      "text/plain": [
       "   close  high   low  p_change    ma5       rsi5        cci5\n",
       "0   6.30  6.42  6.23     -0.63  6.410        NaN         NaN\n",
       "1   6.32  6.33  6.15      0.32  6.374        NaN         NaN\n",
       "2   6.31  6.33  6.25     -0.16  6.336        NaN         NaN\n",
       "3   6.30  6.37  6.28     -0.16  6.314        NaN         NaN\n",
       "4   6.44  6.46  6.27      2.22  6.334        NaN  100.000000\n",
       "5   6.36  6.45  6.34     -1.24  6.346  78.947368   44.354839\n",
       "6   6.39  6.39  6.27      0.47  6.360  80.246914  115.384615\n",
       "7   6.31  6.39  6.25     -1.25  6.360  84.905660  114.035088\n",
       "8   6.17  6.30  6.11     -2.22  6.334  62.042223  -37.974684\n",
       "9   6.36  6.79  6.24      3.08  6.318  64.436371  -73.476703"
      ]
     },
     "execution_count": 124,
     "metadata": {},
     "output_type": "execute_result"
    }
   ],
   "source": [
    "# CCI(N)=(TP－MA(N))÷MD÷0.015\n",
    "# TP =(最高价+最低价+收盘价)/3；MD = 最近N日(MA － 收盘价)的累计之和/N\n",
    "data['cci5'] = talib.CCI(np.array(df['high']),np.array(df['low']),np.array(df['close']), timeperiod=5)\n",
    "data.head(10)"
   ]
  },
  {
   "cell_type": "markdown",
   "metadata": {},
   "source": [
    "## 绘制散点图"
   ]
  },
  {
   "cell_type": "code",
   "execution_count": 125,
   "metadata": {},
   "outputs": [
    {
     "data": {
      "text/html": [
       "<div>\n",
       "<style scoped>\n",
       "    .dataframe tbody tr th:only-of-type {\n",
       "        vertical-align: middle;\n",
       "    }\n",
       "\n",
       "    .dataframe tbody tr th {\n",
       "        vertical-align: top;\n",
       "    }\n",
       "\n",
       "    .dataframe thead th {\n",
       "        text-align: right;\n",
       "    }\n",
       "</style>\n",
       "<table border=\"1\" class=\"dataframe\">\n",
       "  <thead>\n",
       "    <tr style=\"text-align: right;\">\n",
       "      <th></th>\n",
       "      <th>close</th>\n",
       "      <th>high</th>\n",
       "      <th>low</th>\n",
       "      <th>p_change</th>\n",
       "      <th>ma5</th>\n",
       "      <th>rsi5</th>\n",
       "      <th>cci5</th>\n",
       "    </tr>\n",
       "  </thead>\n",
       "  <tbody>\n",
       "    <tr>\n",
       "      <th>0</th>\n",
       "      <td>6.36</td>\n",
       "      <td>6.45</td>\n",
       "      <td>6.34</td>\n",
       "      <td>-1.24</td>\n",
       "      <td>6.346</td>\n",
       "      <td>78.947368</td>\n",
       "      <td>44.354839</td>\n",
       "    </tr>\n",
       "    <tr>\n",
       "      <th>1</th>\n",
       "      <td>6.39</td>\n",
       "      <td>6.39</td>\n",
       "      <td>6.27</td>\n",
       "      <td>0.47</td>\n",
       "      <td>6.360</td>\n",
       "      <td>80.246914</td>\n",
       "      <td>115.384615</td>\n",
       "    </tr>\n",
       "    <tr>\n",
       "      <th>2</th>\n",
       "      <td>6.31</td>\n",
       "      <td>6.39</td>\n",
       "      <td>6.25</td>\n",
       "      <td>-1.25</td>\n",
       "      <td>6.360</td>\n",
       "      <td>84.905660</td>\n",
       "      <td>114.035088</td>\n",
       "    </tr>\n",
       "    <tr>\n",
       "      <th>3</th>\n",
       "      <td>6.17</td>\n",
       "      <td>6.30</td>\n",
       "      <td>6.11</td>\n",
       "      <td>-2.22</td>\n",
       "      <td>6.334</td>\n",
       "      <td>62.042223</td>\n",
       "      <td>-37.974684</td>\n",
       "    </tr>\n",
       "    <tr>\n",
       "      <th>4</th>\n",
       "      <td>6.36</td>\n",
       "      <td>6.79</td>\n",
       "      <td>6.24</td>\n",
       "      <td>3.08</td>\n",
       "      <td>6.318</td>\n",
       "      <td>64.436371</td>\n",
       "      <td>-73.476703</td>\n",
       "    </tr>\n",
       "  </tbody>\n",
       "</table>\n",
       "</div>"
      ],
      "text/plain": [
       "   close  high   low  p_change    ma5       rsi5        cci5\n",
       "0   6.36  6.45  6.34     -1.24  6.346  78.947368   44.354839\n",
       "1   6.39  6.39  6.27      0.47  6.360  80.246914  115.384615\n",
       "2   6.31  6.39  6.25     -1.25  6.360  84.905660  114.035088\n",
       "3   6.17  6.30  6.11     -2.22  6.334  62.042223  -37.974684\n",
       "4   6.36  6.79  6.24      3.08  6.318  64.436371  -73.476703"
      ]
     },
     "execution_count": 125,
     "metadata": {},
     "output_type": "execute_result"
    }
   ],
   "source": [
    "data = data[5:]\n",
    "data.reset_index(inplace=True,drop=True)\n",
    "data.head()"
   ]
  },
  {
   "cell_type": "code",
   "execution_count": 126,
   "metadata": {},
   "outputs": [
    {
     "data": {
      "image/png": "[encoded data removed]",
      "text/plain": [
       "<Figure size 1440x360 with 3 Axes>"
      ]
     },
     "metadata": {},
     "output_type": "display_data"
    }
   ],
   "source": [
    "y = list(data['close'])\n",
    "i = 1\n",
    "plt.figure(facecolor='white',figsize=(20,5))\n",
    "for index in ['ma5','rsi5','cci5']:\n",
    "    x = list(data[index])\n",
    "    plt.subplot(1,5,i)\n",
    "    plt.xlabel(index)\n",
    "    plt.ylabel('close')\n",
    "    plt.title('close with ' + index)\n",
    "    plt.plot(x,y,'or')\n",
    "    i = i + 2"
   ]
  },
  {
   "cell_type": "markdown",
   "metadata": {},
   "source": [
    "## 使用多元线性回归"
   ]
  },
  {
   "cell_type": "code",
   "execution_count": 130,
   "metadata": {},
   "outputs": [
    {
     "data": {
      "text/plain": [
       "array([6.3072882 , 6.30690645, 6.32049094, 6.26755556, 6.26853791,\n",
       "       6.18049632, 6.0932781 , 6.05310337, 6.04623126, 6.01323271,\n",
       "       5.91718141, 5.91535248, 5.89185443, 5.83169407, 5.82305243,\n",
       "       5.87988202, 5.83670091, 5.82719303, 5.84031151, 5.87498496,\n",
       "       5.83194717, 5.87203138, 5.88409153, 5.8637571 , 5.81018616,\n",
       "       5.82278975, 5.83835825, 5.78500262, 5.82384821, 5.8510242 ,\n",
       "       5.8480091 , 5.85412878, 5.82667804, 5.81565286, 5.78940563,\n",
       "       5.73776116])"
      ]
     },
     "execution_count": 130,
     "metadata": {},
     "output_type": "execute_result"
    }
   ],
   "source": [
    "model = LinearRegression(fit_intercept=True)\n",
    "indicators = ['ma5','rsi5','cci5']\n",
    "X = data[indicators]\n",
    "y = data['close']\n",
    "model.fit(X,y)\n",
    "predict_close = model.predict(X)\n",
    "predict_close"
   ]
  },
  {
   "cell_type": "code",
   "execution_count": 131,
   "metadata": {},
   "outputs": [
    {
     "data": {
      "text/plain": [
       "<matplotlib.axes._subplots.AxesSubplot at 0x1600b9a8f60>"
      ]
     },
     "execution_count": 131,
     "metadata": {},
     "output_type": "execute_result"
    },
    {
     "data": {
      "image/png": "[encoded data removed]",
      "text/plain": [
       "<Figure size 432x288 with 1 Axes>"
      ]
     },
     "metadata": {
      "needs_background": "light"
     },
     "output_type": "display_data"
    }
   ],
   "source": [
    "data['predict'] = predict_close\n",
    "data[['close','predict']].plot(alpha=0.5)"
   ]
  },
  {
   "cell_type": "markdown",
   "metadata": {},
   "source": [
    "```python\n",
    "# RSI(n) = n日内收盘价涨数平均值 / (n日内收盘价涨数平均值 + n日内收盘价跌幅平均值)*100\n",
    "data['rsi5'] = None\n",
    "for i in range(4,40):\n",
    "    sum1 = 0.0\n",
    "    sum2 = 0.0\n",
    "    count = 0\n",
    "    for j in range(i-4,i+1):\n",
    "        xx = data.at[j,'p_change']\n",
    "        if xx >= 0:\n",
    "            sum1 += xx\n",
    "            count += 1\n",
    "        else:\n",
    "            sum2 += xx\n",
    "    data.at[i,'rsi5'] = (sum1/count)*100/(((sum1/count)+sum2/(5-count)))\n",
    "data.head(10)\n",
    "```"
   ]
  },
  {
   "cell_type": "markdown",
   "metadata": {},
   "source": [
    "```python\n",
    "# CCI(N)=(TP－MA(N))÷MD÷0.015\n",
    "# TP =(最高价+最低价+收盘价)/3；MD = 最近N日(MA － 收盘价)的累计之和/N\n",
    "data['cci5'] = None\n",
    "for i in range(4,40):\n",
    "    tp = (data.at[i,'high'] + data.at[i,'close'] + data.at[i,'low'])/3\n",
    "    ma = data.at[i,'ma5']\n",
    "    md = 0.0\n",
    "    for j in range(i-4,i+1):\n",
    "        md += ma - data.at[i,'close']\n",
    "    md /= 5\n",
    "    data.at[i,'cci5'] = (tp - ma)/md/0.015\n",
    "data.head(10)\n",
    "```"
   ]
  },
  {
   "cell_type": "code",
   "execution_count": 104,
   "metadata": {},
   "outputs": [
    {
     "data": {
      "text/html": [
       "<div>\n",
       "<style scoped>\n",
       "    .dataframe tbody tr th:only-of-type {\n",
       "        vertical-align: middle;\n",
       "    }\n",
       "\n",
       "    .dataframe tbody tr th {\n",
       "        vertical-align: top;\n",
       "    }\n",
       "\n",
       "    .dataframe thead th {\n",
       "        text-align: right;\n",
       "    }\n",
       "</style>\n",
       "<table border=\"1\" class=\"dataframe\">\n",
       "  <thead>\n",
       "    <tr style=\"text-align: right;\">\n",
       "      <th></th>\n",
       "      <th>close</th>\n",
       "      <th>high</th>\n",
       "      <th>low</th>\n",
       "      <th>p_change</th>\n",
       "      <th>ma5</th>\n",
       "      <th>rsi5</th>\n",
       "      <th>cci5</th>\n",
       "    </tr>\n",
       "  </thead>\n",
       "  <tbody>\n",
       "    <tr>\n",
       "      <th>0</th>\n",
       "      <td>0.957143</td>\n",
       "      <td>0.666667</td>\n",
       "      <td>1.000000</td>\n",
       "      <td>0.339450</td>\n",
       "      <td>0.976271</td>\n",
       "      <td>0.170175</td>\n",
       "      <td>0.151515</td>\n",
       "    </tr>\n",
       "    <tr>\n",
       "      <th>1</th>\n",
       "      <td>1.000000</td>\n",
       "      <td>0.607843</td>\n",
       "      <td>0.910256</td>\n",
       "      <td>0.600917</td>\n",
       "      <td>1.000000</td>\n",
       "      <td>0.169657</td>\n",
       "      <td>0.369697</td>\n",
       "    </tr>\n",
       "    <tr>\n",
       "      <th>2</th>\n",
       "      <td>0.885714</td>\n",
       "      <td>0.607843</td>\n",
       "      <td>0.884615</td>\n",
       "      <td>0.337920</td>\n",
       "      <td>1.000000</td>\n",
       "      <td>0.180209</td>\n",
       "      <td>0.282424</td>\n",
       "    </tr>\n",
       "    <tr>\n",
       "      <th>3</th>\n",
       "      <td>0.685714</td>\n",
       "      <td>0.519608</td>\n",
       "      <td>0.705128</td>\n",
       "      <td>0.189602</td>\n",
       "      <td>0.955932</td>\n",
       "      <td>0.107091</td>\n",
       "      <td>0.283075</td>\n",
       "    </tr>\n",
       "    <tr>\n",
       "      <th>4</th>\n",
       "      <td>0.957143</td>\n",
       "      <td>1.000000</td>\n",
       "      <td>0.871795</td>\n",
       "      <td>1.000000</td>\n",
       "      <td>0.928814</td>\n",
       "      <td>0.227455</td>\n",
       "      <td>0.0937951</td>\n",
       "    </tr>\n",
       "  </tbody>\n",
       "</table>\n",
       "</div>"
      ],
      "text/plain": [
       "      close      high       low  p_change       ma5      rsi5       cci5\n",
       "0  0.957143  0.666667  1.000000  0.339450  0.976271  0.170175   0.151515\n",
       "1  1.000000  0.607843  0.910256  0.600917  1.000000  0.169657   0.369697\n",
       "2  0.885714  0.607843  0.884615  0.337920  1.000000  0.180209   0.282424\n",
       "3  0.685714  0.519608  0.705128  0.189602  0.955932  0.107091   0.283075\n",
       "4  0.957143  1.000000  0.871795  1.000000  0.928814  0.227455  0.0937951"
      ]
     },
     "execution_count": 104,
     "metadata": {},
     "output_type": "execute_result"
    }
   ],
   "source": [
    "# 归一化处理\n",
    "#def normalization(data):\n",
    "#    _range = np.max(data) - np.min(data)\n",
    "#    return (data - np.min(data)) / _range\n",
    "#for column in data.columns:\n",
    "#    data[column] = normalization(data[column])\n",
    "#data.head()"
   ]
  }
 ],
 "metadata": {
  "kernelspec": {
   "display_name": "Python 3",
   "language": "python",
   "name": "python3"
  },
  "language_info": {
   "codemirror_mode": {
    "name": "ipython",
    "version": 3
   },
   "file_extension": ".py",
   "mimetype": "text/x-python",
   "name": "python",
   "nbconvert_exporter": "python",
   "pygments_lexer": "ipython3",
   "version": "3.7.3"
  },
  "toc": {
   "base_numbering": 1,
   "nav_menu": {},
   "number_sections": true,
   "sideBar": true,
   "skip_h1_title": false,
   "title_cell": "Table of Contents",
   "title_sidebar": "Contents",
   "toc_cell": false,
   "toc_position": {},
   "toc_section_display": true,
   "toc_window_display": false
  },
  "varInspector": {
   "cols": {
    "lenName": 16,
    "lenType": 16,
    "lenVar": 40
   },
   "kernels_config": {
    "python": {
     "delete_cmd_postfix": "",
     "delete_cmd_prefix": "del ",
     "library": "var_list.py",
     "varRefreshCmd": "print(var_dic_list())"
    },
    "r": {
     "delete_cmd_postfix": ") ",
     "delete_cmd_prefix": "rm(",
     "library": "var_list.r",
     "varRefreshCmd": "cat(var_dic_list()) "
    }
   },
   "types_to_exclude": [
    "module",
    "function",
    "builtin_function_or_method",
    "instance",
    "_Feature"
   ],
   "window_display": false
  }
 },
 "nbformat": 4,
 "nbformat_minor": 2
}
