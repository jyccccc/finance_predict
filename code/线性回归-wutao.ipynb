{
 "cells": [
  {
   "cell_type": "markdown",
   "metadata": {
    "colab_type": "text",
    "id": "pHyiWw2MO8g0"
   },
   "source": [
    "# 线性回归及Python实现"
   ]
  },
  {
   "cell_type": "markdown",
   "metadata": {
    "colab_type": "text",
    "id": "97HBWpSVYkdb"
   },
   "source": [
    "## 线性回归"
   ]
  },
  {
   "cell_type": "markdown",
   "metadata": {
    "colab_type": "text",
    "id": "x8-TROyj-Him"
   },
   "source": [
    "**线性模型**：$y = \\boldsymbol{w}^T \\boldsymbol{x} + b \\tag{1}$\n",
    "\n",
    "数据集：$D = \\{(\\boldsymbol{x}_1, y_1), (\\boldsymbol{x}_2, y_2), ... , (\\boldsymbol{x}_m, y_m)\\}$，$\\boldsymbol{x}_i = (x_{i1}; x_{i2};...; x_{id})$\n",
    "\n",
    "**损失函数** (Loss function) 采用平方损失：\n",
    "\n",
    "$$L(\\boldsymbol{w}, b) = \\sum_{i=1}^m (y_i - \\hat{y_i})^2 \\\\\n",
    "= \\sum_{i=1}^m (y_i - (\\boldsymbol{w}^T \\boldsymbol{x}_i + b))^2\n",
    "\\tag{2}\n",
    "$$\n",
    "\n",
    "目标是找到一组解 $(\\boldsymbol{w}^*, b^*)$ 使得损失函数的值最小，即：\n",
    "\n",
    "$$(\\boldsymbol{w}^*, b^*) = \\mathop{arg\\ min}\\limits_{(\\boldsymbol{w}, b)}L(\\boldsymbol{w}, b) \\\\\n",
    "= \\mathop{arg\\ min}\\limits_{(\\boldsymbol{w}, b)} \\sum_{i=1}^m (y_i - (\\boldsymbol{w}^T \\boldsymbol{x}_i + b))^2\n",
    "\\tag{3}\n",
    "$$\n",
    "\n",
    "求解方法：\n",
    "- **最小二乘法**\n",
    "- **梯度下降法**\n",
    "  - 模拟退火\n",
    "  - 随机梯度下降\n"
   ]
  },
  {
   "cell_type": "code",
   "execution_count": 0,
   "metadata": {
    "colab": {},
    "colab_type": "code",
    "id": "VyANj6wssqRi"
   },
   "outputs": [],
   "source": [
    "import numpy as np\n",
    "import matplotlib.pyplot as plt\n",
    "import pandas as pd\n",
    "import math\n",
    "import random"
   ]
  },
  {
   "cell_type": "code",
   "execution_count": 0,
   "metadata": {
    "colab": {},
    "colab_type": "code",
    "id": "df5gkuwTsrFA"
   },
   "outputs": [],
   "source": [
    "# 误差函数\n",
    "def loss_function(w, b, x, y):\n",
    "  x = np.array(x)\n",
    "  y = np.array(y).reshape(len(y), 1)\n",
    "  w = np.array(w)\n",
    "  b = np.array(b)\n",
    "\n",
    "  x = np.matrix(x)\n",
    "  y = np.matrix(y)\n",
    "  w = np.matrix(w)\n",
    "  b = np.matrix(b)\n",
    "  \n",
    "  err = [[0.0]]\n",
    "  m = len(x)\n",
    "  for i in range(m):\n",
    "    err = err + (y[i] - w.T * x[i] - b) ** 2\n",
    "    # err = err + abs(y[i,:] - w.T * x[i,:] - b)\n",
    "  return err.tolist()[0][0]\n",
    "\n",
    "# 误差函数重载，这里的w包含了w和b\n",
    "def loss_function(w, x, y):\n",
    "  x = np.array(x)\n",
    "  y = np.array(y).reshape(len(y), 1)\n",
    "  w = np.array(w)\n",
    "\n",
    "  x=np.concatenate((x, np.ones((len(x), 1))), axis=1)\n",
    "\n",
    "  x = np.matrix(x)\n",
    "  y = np.matrix(y)\n",
    "  w = np.matrix(w)\n",
    "  # print(w)\n",
    "  \n",
    "  err = 0.0\n",
    "  m = len(x)\n",
    "  # print('-------')\n",
    "  # print(m)\n",
    "  for i in range(m):\n",
    "    pp= x[i] * w\n",
    "    p=(y[i] - pp.T )\n",
    "    err = err + p * p.T\n",
    "    # err = err + (y[i] - x[i] * w.T ) ** 2\n",
    "  # return math.sqrt(err.tolist()[0][0])/10\n",
    "  return err.tolist()[0][0]\n",
    "\n",
    "\n"
   ]
  },
  {
   "cell_type": "code",
   "execution_count": 0,
   "metadata": {
    "colab": {
     "base_uri": "https://localhost:8080/",
     "height": 34
    },
    "colab_type": "code",
    "id": "Tdul89-VyIOH",
    "outputId": "88c76f14-4583-4116-ffe2-54500d3a39f5"
   },
   "outputs": [
    {
     "name": "stdout",
     "output_type": "stream",
     "text": [
      "0.0\n"
     ]
    }
   ],
   "source": [
    "#测试\n",
    "\n",
    "x = [ [1.], [2.]]\n",
    "y = [ 1., 2.]\n",
    "\n",
    "print(loss_function([1], 0, x, y))"
   ]
  },
  {
   "cell_type": "markdown",
   "metadata": {
    "colab_type": "text",
    "id": "brYBJ6RF-XSs"
   },
   "source": [
    "## 最小二乘法"
   ]
  },
  {
   "cell_type": "markdown",
   "metadata": {
    "colab_type": "text",
    "id": "TXUnIu-vEP23"
   },
   "source": [
    "把 $\\boldsymbol{w}$ 和 $b$ 吸收入向量形式 $\\hat{\\boldsymbol{w}} = (\\boldsymbol{w}; b)$\n",
    "\n",
    "把数据集 $D$ 的输入表示为一个 $m \\times (d + 1)$ 大小的矩阵 $\\boldsymbol{X}$\n",
    "\n",
    "$$\n",
    "\\boldsymbol{X} = \\left(\n",
    "    \\begin{array}{cccc|c}\n",
    "      x_{11} & x_{12} & \\cdots & x_{1d} & 1 \\\\\n",
    "      x_{21} & x_{22} & \\cdots & x_{2d} & 1 \\\\\n",
    "      \\vdots & \\vdots & \\ddots & \\vdots & \\vdots \\\\\n",
    "      x_{m1} & x_{m2} & \\cdots & x_{md} & 1 \\\\\n",
    "    \\end{array}\n",
    "\\right) \n",
    "= \\left(\n",
    "    \\begin{array}{c|c}\n",
    "      \\boldsymbol{x}_{1}^T & 1 \\\\\n",
    "      \\boldsymbol{x}_{2}^T & 1 \\\\\n",
    "      \\vdots & \\vdots \\\\\n",
    "      \\boldsymbol{x}_{m}^T & 1 \\\\\n",
    "    \\end{array}\n",
    "\\right)\n",
    "$$\n",
    "\n",
    "把输出也表示成向量形式 $\\boldsymbol{y} = (y_1; y_2; ...; y_n)$\n",
    "\n",
    "式(2) 可表示为\n",
    "\n",
    "$$\n",
    "L(\\hat{\\boldsymbol{w}}) = (\\boldsymbol{y} - \\boldsymbol{X} \\hat{\\boldsymbol{w}})^T(\\boldsymbol{y} - \\boldsymbol{X} \\hat{\\boldsymbol{w}})\n",
    "\\tag{4}\n",
    "$$\n",
    "\n",
    "式(3) 可表示为\n",
    "\n",
    "$$\n",
    "\\hat{\\boldsymbol{w}}^* = \\mathop{arg\\ min}\\limits_{\\hat{\\boldsymbol{w}}} (\\boldsymbol{y} - \\boldsymbol{X} \\hat{\\boldsymbol{w}})^T(\\boldsymbol{y} - \\boldsymbol{X} \\hat{\\boldsymbol{w}})\n",
    "\\tag{5}\n",
    "$$\n",
    "\n",
    "对式(4)求导可得\n",
    "\n",
    "$$\n",
    "\\frac{\\partial L(\\hat{\\boldsymbol{w}})}{\\partial \\hat{\\boldsymbol{w}}} = 2 \\boldsymbol{X}^T(\\boldsymbol{X} \\hat{\\boldsymbol{w}} - \\boldsymbol{y})\n",
    "\\tag{6}\n",
    "$$\n",
    "\n",
    "当 $\\boldsymbol{X}^T\\boldsymbol{X}$ 为满秩矩阵时（不是满秩矩阵时无法求解），令式(5)等于0可得解为\n",
    "\n",
    "$$\n",
    "\\hat{\\boldsymbol{w}}^* = (\\boldsymbol{X}^T\\boldsymbol{X})^{-1}\\boldsymbol{X}^T \\boldsymbol{y}\n",
    "\\tag{7}\n",
    "$$"
   ]
  },
  {
   "cell_type": "code",
   "execution_count": 0,
   "metadata": {
    "colab": {},
    "colab_type": "code",
    "id": "uvgw4TI6WQYg"
   },
   "outputs": [],
   "source": [
    "import numpy as np\n",
    "from numpy import *"
   ]
  },
  {
   "cell_type": "code",
   "execution_count": 0,
   "metadata": {
    "colab": {},
    "colab_type": "code",
    "id": "k4TzdcKk-DaZ"
   },
   "outputs": [],
   "source": [
    "# 求解\n",
    "def get_w(x, y):\n",
    "  w = (x.T * x).I * x.T * y\n",
    "  return w.tolist()\n",
    "\n",
    "# 最小二乘法\n",
    "def least_squares(x, y):\n",
    "  x = np.array(x)\n",
    "\n",
    "  x = np.concatenate((x, np.ones((len(x), 1))), axis=1)\n",
    "\n",
    "  x = np.matrix(x)\n",
    "  # print(x)\n",
    "\n",
    "\n",
    "  y = np.array(y).reshape(len(y), 1)\n",
    "  y = np.matrix(y)\n",
    "  # print(y)\n",
    "\n",
    "  return get_w(x, y)\n"
   ]
  },
  {
   "cell_type": "code",
   "execution_count": 0,
   "metadata": {
    "colab": {
     "base_uri": "https://localhost:8080/",
     "height": 34
    },
    "colab_type": "code",
    "id": "RU0pAEzfXaFe",
    "outputId": "74f0ff41-9719-42c3-cdd9-1668e31de63a"
   },
   "outputs": [
    {
     "name": "stdout",
     "output_type": "stream",
     "text": [
      "31.927531989787543\n"
     ]
    }
   ],
   "source": [
    "# 测试\n",
    "# x = [[1], [2], [3]]\n",
    "# y = [1, 2, 3]\n",
    "\n",
    "x = [ [338.], [333.], [328.], [207.], [226.], [25.], [179.], [60.], [208.], [606.]]\n",
    "y = [ 640., 633., 619., 393., 428., 27., 193., 66., 226., 1591.]\n",
    "\n",
    "w = least_squares(x, y)\n",
    "w0 = w[0:len(w) - 1][0]\n",
    "\n",
    "print(math.sqrt(loss_function(w0, w[-1][0], x, y)) / len(x))"
   ]
  },
  {
   "cell_type": "code",
   "execution_count": 0,
   "metadata": {
    "colab": {
     "base_uri": "https://localhost:8080/",
     "height": 296
    },
    "colab_type": "code",
    "id": "rGmkEtIsUz2Q",
    "outputId": "384bb434-b084-4721-ba6b-a151fad1c674"
   },
   "outputs": [
    {
     "name": "stdout",
     "output_type": "stream",
     "text": [
      "2.669454966762257 -188.43319665732653\n"
     ]
    },
    {
     "data": {
      "image/png": "[encoded data removed]",
      "text/plain": [
       "<Figure size 432x288 with 1 Axes>"
      ]
     },
     "metadata": {
      "needs_background": "light",
      "tags": []
     },
     "output_type": "display_data"
    }
   ],
   "source": [
    "# 画图\n",
    "\n",
    "x_list = []\n",
    "y_list = y\n",
    "\n",
    "for i in x:\n",
    "  x_list.append(i[0])\n",
    "\n",
    "#创建图\n",
    "ax = plt.gca()\n",
    "#设置x轴、y轴名称\n",
    "ax.set_xlabel('x')\n",
    "ax.set_ylabel('y')\n",
    "\n",
    "#画散点图，以x_list中的值为横坐标，以y_list中的值为纵坐标\n",
    "#参数c指定点的颜色，s指定点的大小,alpha指定点的透明度\n",
    "ax.scatter(x_list, y_list, c='r', s=20, alpha=0.5)\n",
    "\n",
    "print(str(w[0][0]) + ' ' + str(w[1][0]))\n",
    "\n",
    "p1 = [0, 600]\n",
    "p2 = [0 * w[0][0] + w[1][0], 600 * w[0][0] + w[1][0]]\n",
    "\n",
    "ax1 = plt.gca()\n",
    "#设置x轴、y轴名称\n",
    "ax1.set_xlabel('x')\n",
    "ax1.set_ylabel('y')\n",
    "\n",
    "#参数c指定连线的颜色，linewidth指定连线宽度，alpha指定连线的透明度\n",
    "ax1.plot(p1, p2, color='b', linewidth=1, alpha=0.6)\n",
    "\n",
    "plt.show()"
   ]
  },
  {
   "cell_type": "code",
   "execution_count": 0,
   "metadata": {
    "colab": {
     "base_uri": "https://localhost:8080/",
     "height": 470
    },
    "colab_type": "code",
    "id": "35gPwRZ6HXqp",
    "outputId": "edfe0ed9-b57c-4b81-bf90-700e7b7deb26"
   },
   "outputs": [
    {
     "name": "stdout",
     "output_type": "stream",
     "text": [
      "                            OLS Regression Results                            \n",
      "==============================================================================\n",
      "Dep. Variable:                      y   R-squared:                       0.944\n",
      "Model:                            OLS   Adj. R-squared:                  0.938\n",
      "Method:                 Least Squares   F-statistic:                     136.1\n",
      "Date:                Wed, 10 Jun 2020   Prob (F-statistic):           2.66e-06\n",
      "Time:                        07:28:51   Log-Likelihood:                -60.337\n",
      "No. Observations:                  10   AIC:                             124.7\n",
      "Df Residuals:                       8   BIC:                             125.3\n",
      "Df Model:                           1                                         \n",
      "Covariance Type:            nonrobust                                         \n",
      "==============================================================================\n",
      "                 coef    std err          t      P>|t|      [0.025      0.975]\n",
      "------------------------------------------------------------------------------\n",
      "const       -188.4332     67.619     -2.787      0.024    -344.363     -32.503\n",
      "x1             2.6695      0.229     11.667      0.000       2.142       3.197\n",
      "==============================================================================\n",
      "Omnibus:                        1.562   Durbin-Watson:                   2.661\n",
      "Prob(Omnibus):                  0.458   Jarque-Bera (JB):                0.877\n",
      "Skew:                           0.356   Prob(JB):                        0.645\n",
      "Kurtosis:                       1.737   Cond. No.                         560.\n",
      "==============================================================================\n",
      "\n",
      "Warnings:\n",
      "[1] Standard Errors assume that the covariance matrix of the errors is correctly specified.\n"
     ]
    },
    {
     "name": "stderr",
     "output_type": "stream",
     "text": [
      "/usr/local/lib/python3.6/dist-packages/scipy/stats/stats.py:1535: UserWarning: kurtosistest only valid for n>=20 ... continuing anyway, n=10\n",
      "  \"anyway, n=%i\" % int(n))\n"
     ]
    }
   ],
   "source": [
    "# 采用statsmodels库求线性回归\n",
    "import statsmodels.api as sm\n",
    "import matplotlib.pyplot as plt\n",
    "\n",
    "x = [ [338.], [333.], [328.], [207.], [226.], [25.], [179.], [60.], [208.], [606.]]\n",
    "y = [ 640., 633., 619., 393., 428., 27., 193., 66., 226., 1591.]\n",
    "x = sm.add_constant(x) # 若模型中有截距，必须有这一步\n",
    "model = sm.OLS(y, x).fit() # 构建最小二乘模型并拟合\n",
    "print(model.summary()) # 输出回归结果"
   ]
  },
  {
   "cell_type": "markdown",
   "metadata": {
    "colab_type": "text",
    "id": "IFRNxq26-Zmc"
   },
   "source": [
    "## 梯度下降法"
   ]
  },
  {
   "cell_type": "markdown",
   "metadata": {
    "colab_type": "text",
    "id": "ko4AYDFn-yPg"
   },
   "source": [
    "式(4)的梯度为\n",
    "\n",
    "$$\n",
    "\\nabla L(\\hat{\\boldsymbol{w}}) = \n",
    "\\left(\n",
    "    \\begin{matrix}\n",
    "      \\frac{\\partial L(\\hat{\\boldsymbol{w}})}{\\partial w_1} \\\\\n",
    "      \\frac{\\partial L(\\hat{\\boldsymbol{w}})}{\\partial w_2} \\\\\n",
    "      \\vdots \\\\\n",
    "      \\frac{\\partial L(\\hat{\\boldsymbol{w}})}{\\partial w_d} \\\\\n",
    "      \\frac{\\partial L(\\hat{\\boldsymbol{w}})}{\\partial b} \\\\\n",
    "    \\end{matrix}\n",
    "\\right)\n",
    "= \\frac{\\partial L(\\hat{\\boldsymbol{w}})}{\\partial \\hat{\\boldsymbol{w}}} = 2 \\boldsymbol{X}^T(\\boldsymbol{X} \\hat{\\boldsymbol{w}} - \\boldsymbol{y})\n",
    "\\tag{8}\n",
    "$$\n",
    "\n",
    "根据梯度下降法，不断更新 $\\hat{\\boldsymbol{w}}$ 去寻找 $\\hat{\\boldsymbol{w}}^*$。参数的更新以目标的负梯度为方向，$t$ 表示第 $t$ 次更新参数，$\\eta$ 表示学习率。\n",
    "\n",
    "$$\\hat{\\boldsymbol{w}}^{(t+1)} = \\hat{\\boldsymbol{w}}^{(t)} - \\eta \\nabla L(\\hat{\\boldsymbol{w}}^{(t)}) \\tag{9}$$"
   ]
  },
  {
   "cell_type": "code",
   "execution_count": 0,
   "metadata": {
    "colab": {},
    "colab_type": "code",
    "id": "_yJTKo4Q-h5p"
   },
   "outputs": [],
   "source": [
    "import numpy as np\n",
    "import matplotlib.pyplot as plt\n",
    "import pandas as pd"
   ]
  },
  {
   "cell_type": "code",
   "execution_count": 0,
   "metadata": {
    "colab": {},
    "colab_type": "code",
    "id": "GvUfdllOLbms"
   },
   "outputs": [],
   "source": [
    "# 梯度\n",
    "def gradient(w, x, y):\n",
    "  x = np.array(x)\n",
    "  y = np.array(y).reshape(len(y), 1)\n",
    "  x = np.concatenate((x, np.ones((len(x), 1))), axis=1)\n",
    "  w = np.array(w)\n",
    "\n",
    "  x = np.matrix(x)\n",
    "  y = np.matrix(y)\n",
    "  w = np.matrix(w)\n",
    "\n",
    "  # print(w)\n",
    "  return 2 * x.T * (x * w - y)\n",
    "\n",
    "# 梯度下降\n",
    "def gradient_descent(x, y):\n",
    "  lr = 0.0000001  # learning rate\n",
    "  iteration = 1000000  # 迭代次数\n",
    "  w = np.ones((1, len(x[0]) + 1)).T\n",
    "  w[len(x[0])][0] = y[0] - x[0][0]\n",
    "  # w=data.iloc[1:2,1:-1].values\n",
    "  # w=np.concatenate((w, np.ones((len(w), 1))), axis=1).T\n",
    "  # print(x)\n",
    "  # print(w)\n",
    "\n",
    "  for i in range(iteration):\n",
    "    w = w - lr * gradient(w, x, y)\n",
    "\n",
    "  return w\n"
   ]
  },
  {
   "cell_type": "code",
   "execution_count": 0,
   "metadata": {
    "colab": {
     "base_uri": "https://localhost:8080/",
     "height": 50
    },
    "colab_type": "code",
    "id": "eaIkcNOFOFBv",
    "outputId": "986bab9d-037b-49f8-f0cf-a35fb5153e8d"
   },
   "outputs": [
    {
     "name": "stdout",
     "output_type": "stream",
     "text": [
      "[[2.664103150270952], [-186.57092397847248]]\n",
      "31.929045483933738\n"
     ]
    }
   ],
   "source": [
    "# 测试\n",
    "# data=pd.read_csv('final_data.csv',encoding='gb18030')\n",
    "# x = data.iloc[:,1:-1].values\n",
    "# y = data.iloc[:,0].values\n",
    "\n",
    "# print(x)\n",
    "# print(y)\n",
    "\n",
    "x = [ [338.], [333.], [328.], [207.], [226.], [25.], [179.], [60.], [208.], [606.]]\n",
    "y = [ 640., 633., 619., 393., 428., 27., 193., 66., 226., 1591.]\n",
    "\n",
    "w = gradient_descent(x, y)\n",
    "w = w.tolist()\n",
    "\n",
    "print(w)\n",
    "\n",
    "w0 = w[0:len(w) - 1][0]\n",
    "\n",
    "# print(math.sqrt(loss_function(w0, w[-1][0], x, y)) / len(x))\n",
    "print(math.sqrt(loss_function(w, x, y)) / len(x))  # 均方误差"
   ]
  },
  {
   "cell_type": "code",
   "execution_count": 0,
   "metadata": {
    "colab": {
     "base_uri": "https://localhost:8080/",
     "height": 296
    },
    "colab_type": "code",
    "id": "dRleTtyTXiZx",
    "outputId": "0e000a62-0563-4df6-ca70-606b7e351123"
   },
   "outputs": [
    {
     "name": "stdout",
     "output_type": "stream",
     "text": [
      "2.664103150270952 -186.57092397847248\n"
     ]
    },
    {
     "data": {
      "image/png": "[encoded data removed]",
      "text/plain": [
       "<Figure size 432x288 with 1 Axes>"
      ]
     },
     "metadata": {
      "needs_background": "light",
      "tags": []
     },
     "output_type": "display_data"
    }
   ],
   "source": [
    "# 画图\n",
    "\n",
    "x_list = []\n",
    "y_list = y\n",
    "\n",
    "for i in x:\n",
    "  x_list.append(i[0])\n",
    "\n",
    "#创建图\n",
    "ax = plt.gca()\n",
    "#设置x轴、y轴名称\n",
    "ax.set_xlabel('x')\n",
    "ax.set_ylabel('y')\n",
    "\n",
    "#画散点图，以x_list中的值为横坐标，以y_list中的值为纵坐标\n",
    "#参数c指定点的颜色，s指定点的大小,alpha指定点的透明度\n",
    "ax.scatter(x_list, y_list, c='r', s=20, alpha=0.5)\n",
    "\n",
    "print(str(w[0][0]) + ' ' + str(w[1][0]))\n",
    "\n",
    "p1 = [0, 600]\n",
    "p2 = [0 * w[0][0] + w[1][0], 600 * w[0][0] + w[1][0]]\n",
    "\n",
    "ax1 = plt.gca()\n",
    "#设置x轴、y轴名称\n",
    "ax1.set_xlabel('x')\n",
    "ax1.set_ylabel('y')\n",
    "\n",
    "#参数c指定连线的颜色，linewidth指定连线宽度，alpha指定连线的透明度\n",
    "ax1.plot(p1, p2, color='b', linewidth=1, alpha=0.6)\n",
    "\n",
    "plt.show()"
   ]
  },
  {
   "cell_type": "markdown",
   "metadata": {
    "colab_type": "text",
    "id": "sDOjPPsU0ISt"
   },
   "source": [
    "也可以求解**非线性模型**。如引入二次项：\n",
    "$$y = \\boldsymbol{w}_2^T\n",
    "\\left(\n",
    "    \\begin{matrix}\n",
    "      x_1^2 \\\\\n",
    "      x_2^2 \\\\\n",
    "      \\vdots \\\\\n",
    "      x_d^2 \\\\\n",
    "    \\end{matrix}\n",
    "\\right)\n",
    "+ \\boldsymbol{w}_1^T\n",
    "\\left(\n",
    "    \\begin{matrix}\n",
    "      x_1 \\\\\n",
    "      x_2 \\\\\n",
    "      \\vdots \\\\\n",
    "      x_d \\\\\n",
    "    \\end{matrix}\n",
    "\\right)\n",
    "+ b$$\n",
    "\n",
    "可以把 $x_i^2$ 看成另一个特征，本质还是线性回归"
   ]
  },
  {
   "cell_type": "code",
   "execution_count": 0,
   "metadata": {
    "colab": {
     "base_uri": "https://localhost:8080/",
     "height": 104
    },
    "colab_type": "code",
    "id": "EZ8I7SUCqsFX",
    "outputId": "5734190c-004f-4217-a691-c4cf0956b59d"
   },
   "outputs": [
    {
     "name": "stdout",
     "output_type": "stream",
     "text": [
      "[[114244.0, 338.0], [110889.0, 333.0], [107584.0, 328.0], [42849.0, 207.0], [51076.0, 226.0], [625.0, 25.0], [32041.0, 179.0], [3600.0, 60.0], [43264.0, 208.0], [367236.0, 606.0]]\n",
      "[640.0, 633.0, 619.0, 393.0, 428.0, 27.0, 193.0, 66.0, 226.0, 1591.0]\n",
      "[[0.002695722750670167], [0.9906491919888195], [0.9999201489658276]]\n",
      "15.529527888679146\n"
     ]
    }
   ],
   "source": [
    "# 梯度下降\n",
    "def gradient_descent(x, y):\n",
    "  lr = 1e-12  # learning rate\n",
    "  iteration = 1000000  # 迭代次数\n",
    "  w = np.ones((1, len(x[0]) + 1)).T\n",
    "\n",
    "  for i in range(iteration):\n",
    "    w = w - lr * gradient(w, x, y)\n",
    "\n",
    "  return w\n",
    "\n",
    "x = [ [338.], [333.], [328.], [207.], [226.], [25.], [179.], [60.], [208.], [606.]]\n",
    "y = [ 640., 633., 619., 393., 428., 27., 193., 66., 226., 1591.]\n",
    "\n",
    "m = len(x)\n",
    "for i in range(m - 1, -1, -1):\n",
    "  x[i].insert(0, x[i][0] ** 2)\n",
    "\n",
    "print(x)\n",
    "print(y)\n",
    "\n",
    "w = gradient_descent(x, y)\n",
    "w = w.tolist()\n",
    "\n",
    "print(w)\n",
    "\n",
    "w0 = w[0:len(w) - 1][0]\n",
    "\n",
    "# print(math.sqrt(loss_function(w0, w[-1][0], x, y)) / len(x))\n",
    "print(math.sqrt(loss_function(w, x, y)) / len(x))  # 均方误差"
   ]
  },
  {
   "cell_type": "code",
   "execution_count": 0,
   "metadata": {
    "colab": {
     "base_uri": "https://localhost:8080/",
     "height": 330
    },
    "colab_type": "code",
    "id": "f3vGZvZdu1vv",
    "outputId": "e663cd42-fccb-4bd5-ef4b-cfd25bcf1ecc"
   },
   "outputs": [
    {
     "name": "stdout",
     "output_type": "stream",
     "text": [
      "0.002695722750670167\n",
      "0.9906491919888195\n",
      "0.9999201489658276\n"
     ]
    },
    {
     "data": {
      "image/png": "[encoded data removed]",
      "text/plain": [
       "<Figure size 432x288 with 1 Axes>"
      ]
     },
     "metadata": {
      "needs_background": "light",
      "tags": []
     },
     "output_type": "display_data"
    }
   ],
   "source": [
    "# 画图\n",
    "\n",
    "x_list = []\n",
    "y_list = y\n",
    "\n",
    "for i in x:\n",
    "  x_list.append(i[1])\n",
    "\n",
    "#创建图\n",
    "ax = plt.gca()\n",
    "#设置x轴、y轴名称\n",
    "ax.set_xlabel('x')\n",
    "ax.set_ylabel('y')\n",
    "\n",
    "#画散点图，以x_list中的值为横坐标，以y_list中的值为纵坐标\n",
    "#参数c指定点的颜色，s指定点的大小,alpha指定点的透明度\n",
    "ax.scatter(x_list, y_list, c='r', s=20, alpha=0.5)\n",
    "\n",
    "\n",
    "# p1 = [0, 600]\n",
    "# p2 = [0 * w[0][0] + w[1][0], 600 * w[0][0] + w[1][0]]\n",
    "p1 = []\n",
    "p2 = []\n",
    "\n",
    "print(w[0][0])\n",
    "print(w[1][0])\n",
    "print(w[2][0])\n",
    "\n",
    "for i in range(600):\n",
    "  p1.append(i)\n",
    "  p2.append(i * i * w[0][0] + i * w[1][0] + w[2][0])\n",
    "\n",
    "# print(p1)\n",
    "# print(p2)\n",
    "\n",
    "\n",
    "ax1 = plt.gca()\n",
    "#设置x轴、y轴名称\n",
    "ax1.set_xlabel('x')\n",
    "ax1.set_ylabel('y')\n",
    "\n",
    "#参数c指定连线的颜色，linewidth指定连线宽度，alpha指定连线的透明度\n",
    "ax1.plot(p1, p2, color='b', linewidth=1, alpha=0.6)\n",
    "\n",
    "plt.show()"
   ]
  },
  {
   "cell_type": "markdown",
   "metadata": {
    "colab_type": "text",
    "id": "rD1xZVNullnW"
   },
   "source": [
    "### 模拟退火"
   ]
  },
  {
   "cell_type": "markdown",
   "metadata": {
    "colab_type": "text",
    "id": "MY0J9VYrS1CC"
   },
   "source": [
    "模拟退火算法基于物理退火的原理，将固体加热至高温然后冷却，温度越高降温的概率越大 (降温更快)，温度越低降温的概率越小 (降温越慢)。模拟退火算法进行多次降温，直到找到一个可行解。\n",
    "\n",
    "简单来说，如果新的状态比当前状态更优就接受该状态，否则以一定概率接受新状态。概率为：$P(\\Delta E) = e^{\\frac{-\\Delta E}{T}}$，其中 $T$ 为当前温度，$\\Delta E$ 新状态与当前状态的能量差。\n",
    "\n",
    "模拟退火主要有三个参数：初始温度 $T_0$，降温系数 $d$，终止温度 $T_k$。\n",
    "\n",
    "让当前温度 $T = T_0$，温度下降，尝试转移，如果转移 $T = d * T$。当 $T < T_k$ 时结束模拟退火算法。"
   ]
  },
  {
   "cell_type": "code",
   "execution_count": 0,
   "metadata": {
    "colab": {},
    "colab_type": "code",
    "id": "yy2brmhMTVfb"
   },
   "outputs": [],
   "source": [
    "# 模拟退火\n",
    "def simulateAnneal(x, y):\n",
    "  Tk = 1e-8  # 终止温度\n",
    "  T0 = 100  # 初始温度\n",
    "  d = 0.5  # 降温系数\n",
    "  w = [[1] for i in range(len(x[0]) + 1)]\n",
    "  now = loss_function(w, x, y)\n",
    "  nxt = now\n",
    "  min_value = now  # 损失函数最小值\n",
    "  T = T0  # 当前温度\n",
    "  cnt = 0  # 迭代次数\n",
    "  while T > Tk:\n",
    "    cnt += 1\n",
    "    next = []\n",
    "    mn = 1e20  # 临时的最小值\n",
    "    for i in range(50):\n",
    "      nw = []\n",
    "      for i in w:\n",
    "        nw.append(i.copy())\n",
    "      \n",
    "      for i in range(len(w)):\n",
    "        nw[i][0] = w[i][0] + math.cos(myrand() * 2 * math.pi) * T\n",
    "      \n",
    "      nE = loss_function(nw, x, y)  # 新状态\n",
    "       \n",
    "      if mn > nE:  # 更新最小值\n",
    "        mn = nE\n",
    "        next = []\n",
    "        for i in nw:\n",
    "          next.append(i.copy())\n",
    "    dE = mn - min_value  # 能量差\n",
    "    if dE / T > 0:\n",
    "      continue\n",
    "    if dE < 0 or math.exp(dE / T) < myrand():\n",
    "      min_value = mn\n",
    "      w = []\n",
    "      for i in next:\n",
    "        w.append(i.copy())\n",
    "    T = T * d  # 降温\n",
    "  print(cnt)\n",
    "  return w\n",
    "\n",
    "def myrand():\n",
    "  return random.randint(0, 10000) / 10000;"
   ]
  },
  {
   "cell_type": "code",
   "execution_count": 0,
   "metadata": {
    "colab": {
     "base_uri": "https://localhost:8080/",
     "height": 67
    },
    "colab_type": "code",
    "id": "JgXhoWTTaSfm",
    "outputId": "5783f4ef-17aa-42f4-ffe3-9f808d27a6c0"
   },
   "outputs": [
    {
     "name": "stdout",
     "output_type": "stream",
     "text": [
      "105\n",
      "[[2.652241554574846], [-182.4434177415482]]\n",
      "31.943185784301175\n"
     ]
    }
   ],
   "source": [
    "# 测试\n",
    "x = [ [338.], [333.], [328.], [207.], [226.], [25.], [179.], [60.], [208.], [606.]]\n",
    "y = [ 640., 633., 619., 393., 428., 27., 193., 66., 226., 1591.]\n",
    "\n",
    "w = simulateAnneal(x, y)\n",
    "# w = w.tolist()\n",
    "\n",
    "print(w)\n",
    "\n",
    "print(math.sqrt(loss_function(w, x, y)) / len(x))"
   ]
  },
  {
   "cell_type": "markdown",
   "metadata": {
    "colab_type": "text",
    "id": "767Jb9b8lp28"
   },
   "source": [
    "### 随机梯度下降"
   ]
  },
  {
   "cell_type": "markdown",
   "metadata": {
    "colab_type": "text",
    "id": "XIiFTS2fxPWu"
   },
   "source": [
    "随机梯度下降法在计算梯度时加入随机因素，这样即便陷入局部最小点，计算出的梯度仍可能不为零，就有机会跳出局部极小继续搜索。"
   ]
  },
  {
   "cell_type": "code",
   "execution_count": 0,
   "metadata": {
    "colab": {},
    "colab_type": "code",
    "id": "zbes3UVyzk45"
   },
   "outputs": [],
   "source": [
    "# 梯度\n",
    "def gradient(w, x, y):\n",
    "  x = np.array(x)\n",
    "  y = np.array(y).reshape(len(y), 1)\n",
    "  x = np.concatenate((x, np.ones((len(x), 1))), axis=1)\n",
    "  w = np.array(w)\n",
    "\n",
    "  x = np.matrix(x)\n",
    "  y = np.matrix(y)\n",
    "  w = np.matrix(w)\n",
    "  # print(w)\n",
    "  return 2 * x.T * (x * w - y)\n",
    "\n",
    "# 随机梯度下降\n",
    "def random_gradient_descent(x, y):\n",
    "  lr = 0.0000001  # learning rate\n",
    "  iteration = 1000000\n",
    "  w = np.ones((1, len(x[0]) + 1)).T\n",
    "  w[len(x[0])][0] = y[0] - x[0][0]\n",
    "\n",
    "  for i in range(iteration):\n",
    "    id = random.randint(0, len(x) - 1)  # 随机选择一组数据\n",
    "    w = w - lr * gradient(w, [x[id]], [y[id]])\n",
    "\n",
    "  return w"
   ]
  },
  {
   "cell_type": "code",
   "execution_count": 0,
   "metadata": {
    "colab": {
     "base_uri": "https://localhost:8080/",
     "height": 50
    },
    "colab_type": "code",
    "id": "JdiY3l2f0Nw9",
    "outputId": "a2898822-c5de-497c-b053-cdd8f06b87b2"
   },
   "outputs": [
    {
     "name": "stdout",
     "output_type": "stream",
     "text": [
      "[[1.4345358411567755], [275.41894946969995]]\n",
      "84.25783548408097\n"
     ]
    }
   ],
   "source": [
    "# 测试\n",
    "x = [ [338.], [333.], [328.], [207.], [226.], [25.], [179.], [60.], [208.], [606.]]\n",
    "y = [ 640., 633., 619., 393., 428., 27., 193., 66., 226., 1591.]\n",
    "\n",
    "w = random_gradient_descent(x, y)\n",
    "w = w.tolist()\n",
    "\n",
    "print(w)\n",
    "\n",
    "w0 = w[0:len(w) - 1][0]\n",
    "\n",
    "# print(math.sqrt(loss_function(w0, w[-1][0], x, y)) / len(x))\n",
    "print(math.sqrt(loss_function(w, x, y)) / len(x))"
   ]
  }
 ],
 "metadata": {
  "colab": {
   "name": "线性回归.ipynb",
   "provenance": [],
   "toc_visible": true
  },
  "kernelspec": {
   "display_name": "Python 3",
   "language": "python",
   "name": "python3"
  },
  "language_info": {
   "codemirror_mode": {
    "name": "ipython",
    "version": 3
   },
   "file_extension": ".py",
   "mimetype": "text/x-python",
   "name": "python",
   "nbconvert_exporter": "python",
   "pygments_lexer": "ipython3",
   "version": "3.7.6"
  },
  "toc": {
   "base_numbering": 1,
   "nav_menu": {},
   "number_sections": true,
   "sideBar": true,
   "skip_h1_title": false,
   "title_cell": "Table of Contents",
   "title_sidebar": "Contents",
   "toc_cell": false,
   "toc_position": {},
   "toc_section_display": true,
   "toc_window_display": false
  },
  "varInspector": {
   "cols": {
    "lenName": 16,
    "lenType": 16,
    "lenVar": 40
   },
   "kernels_config": {
    "python": {
     "delete_cmd_postfix": "",
     "delete_cmd_prefix": "del ",
     "library": "var_list.py",
     "varRefreshCmd": "print(var_dic_list())"
    },
    "r": {
     "delete_cmd_postfix": ") ",
     "delete_cmd_prefix": "rm(",
     "library": "var_list.r",
     "varRefreshCmd": "cat(var_dic_list()) "
    }
   },
   "types_to_exclude": [
    "module",
    "function",
    "builtin_function_or_method",
    "instance",
    "_Feature"
   ],
   "window_display": false
  }
 },
 "nbformat": 4,
 "nbformat_minor": 1
}
